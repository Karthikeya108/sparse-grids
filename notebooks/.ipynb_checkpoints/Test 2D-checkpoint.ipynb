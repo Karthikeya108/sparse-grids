{
 "metadata": {
  "name": "",
  "signature": "sha256:7470e57a741bb633b4fffc4bc2cbc2a850f96e4e1ea5054e57a7f4752cf31ae0"
 },
 "nbformat": 3,
 "nbformat_minor": 0,
 "worksheets": [
  {
   "cells": [
    {
     "cell_type": "code",
     "collapsed": false,
     "input": [
      "%matplotlib inline\n",
      "%load_ext autoreload\n",
      "%autoreload 2\n",
      "import sys\n",
      "sys.path.append('../')\n",
      "import numpy as np\n",
      "import scipy as sp\n",
      "from scipy import stats\n",
      "import matplotlib.pylab as pl\n",
      "import seaborn as sns\n",
      "import density_estimation.SGDensityEstimator as de\n",
      "import pandas as pd\n",
      "import pysgpp as ps\n",
      "np.random.seed(42)"
     ],
     "language": "python",
     "metadata": {},
     "outputs": []
    },
    {
     "cell_type": "heading",
     "level": 1,
     "metadata": {},
     "source": [
      "Generate Dataset"
     ]
    },
    {
     "cell_type": "code",
     "collapsed": false,
     "input": [
      "size = 5000\n",
      "mean = np.array([0.5, 0.5])\n",
      "cov = np.array([[.5, 0.25], [0.25, 0.5]])/10\n",
      "rv = sp.stats.multivariate_normal(mean = mean, cov = cov)\n",
      "data = rv.rvs(size)\n",
      "#data = np.hstack((data, np.ones(size).reshape(-1,1)))\n",
      "data = pd.DataFrame(data,columns=['a','b'])\n",
      "data = data[(data.a>0) & (data.a<1) & (data.b>0) & (data.b<1)]"
     ],
     "language": "python",
     "metadata": {},
     "outputs": []
    },
    {
     "cell_type": "code",
     "collapsed": false,
     "input": [
      "pl.plot(data.a, data.b, '.')\n",
      "pl.xlim((0,1))\n",
      "pl.ylim((0,1))"
     ],
     "language": "python",
     "metadata": {},
     "outputs": []
    },
    {
     "cell_type": "heading",
     "level": 1,
     "metadata": {},
     "source": [
      "Run Estimator"
     ]
    },
    {
     "cell_type": "code",
     "collapsed": false,
     "input": [
      "def draw_model(model):\n",
      "    from cStringIO import StringIO\n",
      "    import matplotlib.image as mpimg\n",
      "    import pymc\n",
      "    dot = pymc.graph.graph(model)\n",
      "    png_str = dot.create_png(prog='dot')\n",
      "\n",
      "    # treat the dot output string as an image file\n",
      "    sio = StringIO()\n",
      "    sio.write(png_str)\n",
      "    sio.seek(0)\n",
      "    img = mpimg.imread(sio)\n",
      "\n",
      "    # plot the image\n",
      "    imgplot = pl.imshow(img, aspect='equal')"
     ],
     "language": "python",
     "metadata": {},
     "outputs": []
    },
    {
     "cell_type": "code",
     "collapsed": false,
     "input": [
      "level = 3\n",
      "regparam = 1e-4\n",
      "regstr = 'laplace'\n",
      "alpha_threshold = 0.5\n",
      "simpling_size_first = 10000\n",
      "sampling_size_last = 10000\n",
      "epsilon = 1e-4\n",
      "\n",
      "sgde = de.SG_DensityEstimator({'data':ps.DataMatrix(data.as_matrix())}, level, regparam, regstr, \n",
      "                           alpha_threshold=alpha_threshold,\n",
      "                           sampling_size_first=simpling_size_first, \n",
      "                           sampling_size_last=sampling_size_last,\n",
      "                           epsilon=epsilon, imax = 5)"
     ],
     "language": "python",
     "metadata": {},
     "outputs": []
    },
    {
     "cell_type": "code",
     "collapsed": false,
     "input": [
      "grid, alpha = sgde.run()"
     ],
     "language": "python",
     "metadata": {},
     "outputs": []
    },
    {
     "cell_type": "code",
     "collapsed": false,
     "input": [
      "draw_model(sgde.model)"
     ],
     "language": "python",
     "metadata": {},
     "outputs": []
    },
    {
     "cell_type": "heading",
     "level": 1,
     "metadata": {},
     "source": [
      "Test of expected value calculator"
     ]
    },
    {
     "cell_type": "code",
     "collapsed": false,
     "input": [
      "grid = sgde.grid\n",
      "storage = grid.getStorage()\n",
      "dim = 2\n",
      "X = np.empty((grid.getSize(), dim), dtype=np.float32)\n",
      "coords_dv = ps.DataVector(dim)\n",
      "for i in xrange(grid.getSize()):\n",
      "    idx = storage.get(i)\n",
      "    idx.getCoords(coords_dv)\n",
      "    X[i,:] = coords_dv.array()"
     ],
     "language": "python",
     "metadata": {},
     "outputs": []
    },
    {
     "cell_type": "code",
     "collapsed": false,
     "input": [
      "X = X-mean"
     ],
     "language": "python",
     "metadata": {},
     "outputs": []
    },
    {
     "cell_type": "code",
     "collapsed": false,
     "input": [
      "covInvX = sp.linalg.solve(cov, X.T)\n",
      "nodal_values = - 0.5 * np.array([X[i,:].dot(covInvX[:,i]) for i in xrange(X.shape[0])])\n",
      "opHierach = ps.createOperationHierarchisation(grid)\n",
      "alpha = ps.DataVector(nodal_values)\n",
      "opHierach.doHierarchisation(alpha)"
     ],
     "language": "python",
     "metadata": {},
     "outputs": []
    },
    {
     "cell_type": "code",
     "collapsed": false,
     "input": [
      "sgde.alpha = alpha.array()\n",
      "sgde.calc_model_expected_values(1)"
     ],
     "language": "python",
     "metadata": {},
     "outputs": []
    },
    {
     "cell_type": "code",
     "collapsed": false,
     "input": [
      "sgde.calc_empirical_expected_values(ps.DataMatrix(data.as_matrix()))"
     ],
     "language": "python",
     "metadata": {},
     "outputs": []
    },
    {
     "cell_type": "code",
     "collapsed": false,
     "input": [
      "sgde.alpha = alpha.array()\n",
      "sgde.calc_model_expected_values(1)"
     ],
     "language": "python",
     "metadata": {},
     "outputs": []
    },
    {
     "cell_type": "raw",
     "metadata": {},
     "source": []
    },
    {
     "cell_type": "heading",
     "level": 1,
     "metadata": {},
     "source": [
      "Inference Testing\n"
     ]
    },
    {
     "cell_type": "code",
     "collapsed": false,
     "input": [
      "level = 3\n",
      "regparam = 1e-4\n",
      "regstr = 'laplace'\n",
      "alpha_threshold = 0.5\n",
      "simpling_size_first = 10000\n",
      "sampling_size_last = 5000\n",
      "epsilon = 1e-4\n",
      "data_dm = ps.DataMatrix(data.as_matrix())\n",
      "alpha_true = alpha.array()\n",
      "\n",
      "sgde = de.SG_DensityEstimator({'data':data_dm}, level, regparam, regstr, \n",
      "                           alpha_threshold=alpha_threshold,\n",
      "                           sampling_size_first=simpling_size_first, \n",
      "                           sampling_size_last=sampling_size_last,\n",
      "                           epsilon=epsilon, imax = 5, alpha_true=alpha_true)\n",
      "    \n",
      "grid, alpha = sgde.run()"
     ],
     "language": "python",
     "metadata": {},
     "outputs": []
    },
    {
     "cell_type": "code",
     "collapsed": false,
     "input": [
      "de.__"
     ],
     "language": "python",
     "metadata": {},
     "outputs": []
    },
    {
     "cell_type": "code",
     "collapsed": false,
     "input": [],
     "language": "python",
     "metadata": {},
     "outputs": []
    }
   ],
   "metadata": {}
  }
 ]
}