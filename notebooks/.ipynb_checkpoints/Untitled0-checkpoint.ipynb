{
 "metadata": {
  "name": "",
  "signature": "sha256:b11d49160d501dda75ae4755f518cd2e016974e3946f823e9cf8ed220d50dc25"
 },
 "nbformat": 3,
 "nbformat_minor": 0,
 "worksheets": []
}