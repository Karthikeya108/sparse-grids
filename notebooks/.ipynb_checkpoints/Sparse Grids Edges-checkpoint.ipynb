{
 "metadata": {
  "name": "",
  "signature": "sha256:54c5ed8ff7b2893b5a8e75ff8cf6a3f0d47a2ba33adbf129fbca0d053f7b2ad7"
 },
 "nbformat": 3,
 "nbformat_minor": 0,
 "worksheets": [
  {
   "cells": [
    {
     "cell_type": "markdown",
     "metadata": {},
     "source": [
      "This illustrates that the changes in 1d cuts of sparse grids functions happen only on the node coordinats on the highest grid level"
     ]
    },
    {
     "cell_type": "code",
     "collapsed": false,
     "input": [
      "%matplotlib inline\n",
      "import numpy as np\n",
      "import scipy as sp\n",
      "import pysgpp as ps\n",
      "import matplotlib.pylab as pl"
     ],
     "language": "python",
     "metadata": {},
     "outputs": [],
     "prompt_number": 46
    },
    {
     "cell_type": "code",
     "collapsed": false,
     "input": [
      "level = 5\n",
      "sampling_step = 2**-15\n",
      "cut_coord = 0.1"
     ],
     "language": "python",
     "metadata": {},
     "outputs": [],
     "prompt_number": 64
    },
    {
     "cell_type": "code",
     "collapsed": false,
     "input": [
      "grid = ps.Grid.createLinearGrid(2)\n",
      "grid.createGridGenerator().regular(level)\n",
      "alpha = np.ones(grid.getSize())\n",
      "dataset = np.hstack([np.arange(0,1+sampling_step,sampling_step).reshape(-1,1), \n",
      "                     np.repeat(cut_coord,1/sampling_step+1).reshape(-1,1)])\n",
      "alpha_dv = ps.DataVector(alpha)\n",
      "dataset_dm = ps.DataMatrix(dataset)\n",
      "opEval = ps.createOperationMultipleEval(grid, dataset_dm)\n",
      "y_dv = ps.DataVector(dataset.shape[0])\n",
      "opEval.mult(alpha_dv, y_dv)\n",
      "y = y_dv.array()"
     ],
     "language": "python",
     "metadata": {},
     "outputs": [],
     "prompt_number": 65
    },
    {
     "cell_type": "code",
     "collapsed": false,
     "input": [
      "#draw grid projection\n",
      "pl.plot(dataset[:,0], y, 'r-')\n",
      "\n",
      "#draw sparse grid node coordinates\n",
      "stepsize = 2**-level\n",
      "nodes = np.arange(0, 1+stepsize, stepsize)\n",
      "for node in nodes:\n",
      "    pl.plot([node,node], [0, 7], 'b-')"
     ],
     "language": "python",
     "metadata": {},
     "outputs": [
      {
       "metadata": {},
       "output_type": "display_data",
       "png": "[encoded data removed]",
       "text": [
        "<matplotlib.figure.Figure at 0x467fb50>"
       ]
      }
     ],
     "prompt_number": 66
    },
    {
     "cell_type": "markdown",
     "metadata": {},
     "source": [
      "No knicks occur between the blue lines (node points) even though the sampling step is fine enough to pick up the changes"
     ]
    },
    {
     "cell_type": "code",
     "collapsed": false,
     "input": [
      "from scipy import optimize"
     ],
     "language": "python",
     "metadata": {},
     "outputs": [],
     "prompt_number": 67
    },
    {
     "cell_type": "code",
     "collapsed": false,
     "input": [
      "sp.optimize.linesearch.line_search_armijo()"
     ],
     "language": "python",
     "metadata": {},
     "outputs": [
      {
       "ename": "NameError",
       "evalue": "name 'xi' is not defined",
       "output_type": "pyerr",
       "traceback": [
        "\u001b[1;31m---------------------------------------------------------------------------\u001b[0m\n\u001b[1;31mNameError\u001b[0m                                 Traceback (most recent call last)",
        "\u001b[1;32m<ipython-input-68-d85689fffe7a>\u001b[0m in \u001b[0;36m<module>\u001b[1;34m()\u001b[0m\n\u001b[1;32m----> 1\u001b[1;33m \u001b[0mxi\u001b[0m \u001b[1;33m==\u001b[0m \u001b[0mNone\u001b[0m\u001b[1;33m\u001b[0m\u001b[0m\n\u001b[0m",
        "\u001b[1;31mNameError\u001b[0m: name 'xi' is not defined"
       ]
      }
     ],
     "prompt_number": 68
    },
    {
     "cell_type": "code",
     "collapsed": false,
     "input": [],
     "language": "python",
     "metadata": {},
     "outputs": []
    }
   ],
   "metadata": {}
  }
 ]
}