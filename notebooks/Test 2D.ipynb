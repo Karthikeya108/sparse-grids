{
 "metadata": {
  "name": "",
  "signature": "sha256:2fd4f973a879326401a7febcde0b03b851f80b9f6cfd0a7b99c1c340592d8a2a"
 },
 "nbformat": 3,
 "nbformat_minor": 0,
 "worksheets": [
  {
   "cells": [
    {
     "cell_type": "code",
     "collapsed": false,
     "input": [
      "%matplotlib inline\n",
      "%load_ext autoreload\n",
      "%autoreload 2\n",
      "import sys\n",
      "sys.path.append('../')\n",
      "import numpy as np\n",
      "import scipy as sp\n",
      "from scipy import stats\n",
      "import matplotlib.pylab as pl\n",
      "import seaborn as sns\n",
      "import density_estimation.SGDensityEstimator as de\n",
      "import pandas as pd\n",
      "import pysgpp as ps\n",
      "np.random.seed(42)"
     ],
     "language": "python",
     "metadata": {},
     "outputs": [
      {
       "output_type": "stream",
       "stream": "stdout",
       "text": [
        "Couldn't import dot_parser, loading of dot files will not be possible.\n"
       ]
      }
     ],
     "prompt_number": 1
    },
    {
     "cell_type": "heading",
     "level": 1,
     "metadata": {},
     "source": [
      "Generate Dataset"
     ]
    },
    {
     "cell_type": "code",
     "collapsed": false,
     "input": [
      "size = 1000\n",
      "mean = np.array([0.5, 0.5])\n",
      "cov = np.array([[.5, 0.25], [0.25, 0.5]])/10\n",
      "rv = sp.stats.multivariate_normal(mean = mean, cov = cov)\n",
      "data = rv.rvs(size)\n",
      "#data = np.hstack((data, np.ones(size).reshape(-1,1)))\n",
      "data = pd.DataFrame(data,columns=['a','b'])\n",
      "data = data[(data.a>0) & (data.a<1) & (data.b>0) & (data.b<1)]"
     ],
     "language": "python",
     "metadata": {},
     "outputs": [],
     "prompt_number": 2
    },
    {
     "cell_type": "code",
     "collapsed": false,
     "input": [
      "pl.plot(data.a, data.b, '.')\n",
      "pl.xlim((0,1))\n",
      "pl.ylim((0,1))"
     ],
     "language": "python",
     "metadata": {},
     "outputs": [
      {
       "metadata": {},
       "output_type": "pyout",
       "prompt_number": 3,
       "text": [
        "(0, 1)"
       ]
      },
      {
       "metadata": {},
       "output_type": "display_data",
       "png": "[encoded data removed]",
       "text": [
        "<matplotlib.figure.Figure at 0x233e650>"
       ]
      }
     ],
     "prompt_number": 3
    },
    {
     "cell_type": "heading",
     "level": 1,
     "metadata": {},
     "source": [
      "Run Estimator"
     ]
    },
    {
     "cell_type": "code",
     "collapsed": false,
     "input": [
      "def draw_model(model):\n",
      "    from cStringIO import StringIO\n",
      "    import matplotlib.image as mpimg\n",
      "    import pymc\n",
      "    dot = pymc.graph.graph(model)\n",
      "    png_str = dot.create_png(prog='dot')\n",
      "\n",
      "    # treat the dot output string as an image file\n",
      "    sio = StringIO()\n",
      "    sio.write(png_str)\n",
      "    sio.seek(0)\n",
      "    img = mpimg.imread(sio)\n",
      "\n",
      "    # plot the image\n",
      "    imgplot = pl.imshow(img, aspect='equal')"
     ],
     "language": "python",
     "metadata": {},
     "outputs": [],
     "prompt_number": 3
    },
    {
     "cell_type": "code",
     "collapsed": false,
     "input": [
      "level = 3\n",
      "regparam = 1e-4\n",
      "regstr = 'laplace'\n",
      "alpha_threshold = 0.5\n",
      "simpling_size_first = 1000\n",
      "sampling_size_last = 1000\n",
      "epsilon = 1e-4\n",
      "\n",
      "sgde = de.SG_DensityEstimator({'data':ps.DataMatrix(data.as_matrix())}, level, regparam, regstr, \n",
      "                           alpha_threshold=alpha_threshold,\n",
      "                           sampling_size_first=simpling_size_first, \n",
      "                           sampling_size_last=sampling_size_last,\n",
      "                           epsilon=epsilon, imax = 5)"
     ],
     "language": "python",
     "metadata": {},
     "outputs": [
      {
       "output_type": "stream",
       "stream": "stdout",
       "text": [
        "\r",
        "[                  0%                  ]"
       ]
      },
      {
       "output_type": "stream",
       "stream": "stdout",
       "text": [
        "\n"
       ]
      }
     ],
     "prompt_number": 3
    },
    {
     "cell_type": "code",
     "collapsed": false,
     "input": [
      "grid, alpha = sgde.run()"
     ],
     "language": "python",
     "metadata": {},
     "outputs": []
    },
    {
     "cell_type": "code",
     "collapsed": false,
     "input": [
      "draw_model(sgde.model)"
     ],
     "language": "python",
     "metadata": {},
     "outputs": []
    },
    {
     "cell_type": "heading",
     "level": 1,
     "metadata": {},
     "source": [
      "Test of expected value calculator"
     ]
    },
    {
     "cell_type": "code",
     "collapsed": false,
     "input": [
      "grid = sgde.grid\n",
      "storage = grid.getStorage()\n",
      "dim = 2\n",
      "X = np.empty((grid.getSize(), dim), dtype=np.float32)\n",
      "coords_dv = ps.DataVector(dim)\n",
      "for i in xrange(grid.getSize()):\n",
      "    idx = storage.get(i)\n",
      "    idx.getCoords(coords_dv)\n",
      "    X[i,:] = coords_dv.array()\n",
      "X = X-mean\n",
      "covInvX = sp.linalg.solve(cov, X.T)\n",
      "nodal_values = - 0.5 * np.array([X[i,:].dot(covInvX[:,i]) for i in xrange(X.shape[0])])\n",
      "opHierach = ps.createOperationHierarchisation(grid)\n",
      "alpha = ps.DataVector(nodal_values)\n",
      "opHierach.doHierarchisation(alpha)"
     ],
     "language": "python",
     "metadata": {},
     "outputs": [],
     "prompt_number": 4
    },
    {
     "cell_type": "code",
     "collapsed": false,
     "input": [
      "sgde.alpha = alpha.array()\n",
      "sgde.calc_model_expected_values(1)"
     ],
     "language": "python",
     "metadata": {},
     "outputs": []
    },
    {
     "cell_type": "code",
     "collapsed": false,
     "input": [
      "sgde.calc_empirical_expected_values(ps.DataMatrix(data.as_matrix()))"
     ],
     "language": "python",
     "metadata": {},
     "outputs": []
    },
    {
     "cell_type": "code",
     "collapsed": false,
     "input": [
      "sgde.alpha = alpha.array()\n",
      "sgde.calc_model_expected_values(1)"
     ],
     "language": "python",
     "metadata": {},
     "outputs": []
    },
    {
     "cell_type": "raw",
     "metadata": {},
     "source": []
    },
    {
     "cell_type": "heading",
     "level": 1,
     "metadata": {},
     "source": [
      "Inference Testing\n"
     ]
    },
    {
     "cell_type": "code",
     "collapsed": false,
     "input": [
      "level = 3\n",
      "regparam = 1e-4\n",
      "regstr = 'laplace'\n",
      "alpha_threshold = 0.5\n",
      "simpling_size_first = 1000\n",
      "sampling_size_last = 1000\n",
      "epsilon = 1e-4\n",
      "data_dm = ps.DataMatrix(data.as_matrix())\n",
      "alpha_true = alpha.array()\n",
      "\n",
      "sgde = de.SG_DensityEstimator({'data':data_dm}, level, regparam, regstr, \n",
      "                           alpha_threshold=alpha_threshold,\n",
      "                           sampling_size_first=simpling_size_first, \n",
      "                           sampling_size_last=sampling_size_last,\n",
      "                           epsilon=epsilon, imax = 5, alpha_true=alpha_true)\n",
      "    \n",
      "grid, alpha = sgde.run()"
     ],
     "language": "python",
     "metadata": {},
     "outputs": [
      {
       "output_type": "stream",
       "stream": "stdout",
       "text": [
        "\r",
        "[                  0%                  ]"
       ]
      },
      {
       "output_type": "stream",
       "stream": "stdout",
       "text": [
        " \n",
        "E_empir [ 1.          0.35165823  0.30268074  0.09274351  0.19945615  0.20599551\n",
        "  0.07229251  0.32416801  0.32176422  0.07973996  0.19935508  0.20093849\n",
        "  0.07899917  0.19667812  0.0569585   0.03909026  0.16121529]\n",
        "\n",
        "Burn-in interval complete"
       ]
      },
      {
       "output_type": "stream",
       "stream": "stdout",
       "text": [
        "\n",
        "\n",
        "Sampling finished normally."
       ]
      },
      {
       "output_type": "stream",
       "stream": "stdout",
       "text": [
        "\n",
        "\n",
        "Initial E_model [ 1.          0.60265155  0.38431373  0.30561715  0.15350916  0.1380625\n",
        "  0.15753942  0.59010166  0.48896283  0.31859922  0.12130784  0.11298702\n",
        "  0.2767216   0.39984675  0.27575028  0.21539139  0.18988938]\n",
        "\n",
        "CG Info:  0\n",
        "Number of armijo step:2, learning rate:0.001000"
       ]
      },
      {
       "output_type": "stream",
       "stream": "stdout",
       "text": [
        "\n",
        "Relative Distance to the true alpha 0.840511\n",
        "\n",
        "Burn-in interval complete"
       ]
      },
      {
       "output_type": "stream",
       "stream": "stdout",
       "text": [
        "\n",
        "\n",
        "Sampling finished normally."
       ]
      },
      {
       "output_type": "stream",
       "stream": "stdout",
       "text": [
        "\n",
        "\n",
        "E_model:"
       ]
      },
      {
       "output_type": "stream",
       "stream": "stdout",
       "text": [
        " [ 1.          0.35726713  0.446717    0.15531172  0.15039222  0.19820835\n",
        "  0.14158236  0.45241057  0.49749563  0.23217706  0.11840189  0.14571173\n",
        "  0.21608344  0.19125774  0.18031355  0.15655221  0.23513736]\n",
        "*****************Norm of Likelihood Gradient***************   0.406210118055\n",
        "+++++++++++++++++iteration_step+++++++++++++++++++++    1\n",
        "\n",
        "CG Info:  0\n",
        "Number of armijo step:1, learning rate:0.300000"
       ]
      },
      {
       "output_type": "stream",
       "stream": "stdout",
       "text": [
        "\n",
        "Relative Distance to the true alpha 80.041771\n",
        "\n",
        "Burn-in interval complete"
       ]
      },
      {
       "output_type": "stream",
       "stream": "stdout",
       "text": [
        "\n",
        "\n",
        "Sampling finished normally."
       ]
      },
      {
       "output_type": "stream",
       "stream": "stdout",
       "text": [
        "\n",
        "\n",
        "E_model:"
       ]
      },
      {
       "output_type": "stream",
       "stream": "stdout",
       "text": [
        " [  1.00000000e+00   3.72003214e-01   0.00000000e+00   0.00000000e+00\n",
        "   7.17137944e-01   0.00000000e+00   0.00000000e+00   3.07871496e-02\n",
        "   3.33775395e-04   0.00000000e+00   6.15742992e-02   6.67550791e-04\n",
        "   0.00000000e+00   1.19917696e-02   1.24395069e-04   0.00000000e+00\n",
        "   0.00000000e+00]\n",
        "*****************Norm of Likelihood Gradient***************   0.935342899728\n",
        "+++++++++++++++++iteration_step+++++++++++++++++++++    2\n",
        "\n",
        "CG Info:  0\n"
       ]
      },
      {
       "ename": "UnboundLocalError",
       "evalue": "local variable 'result' referenced before assignment",
       "output_type": "pyerr",
       "traceback": [
        "\u001b[1;31m---------------------------------------------------------------------------\u001b[0m\n\u001b[1;31mUnboundLocalError\u001b[0m                         Traceback (most recent call last)",
        "\u001b[1;32m<ipython-input-5-833ef9d9de4f>\u001b[0m in \u001b[0;36m<module>\u001b[1;34m()\u001b[0m\n\u001b[0;32m     15\u001b[0m                            epsilon=epsilon, imax = 5, alpha_true=alpha_true)\n\u001b[0;32m     16\u001b[0m \u001b[1;33m\u001b[0m\u001b[0m\n\u001b[1;32m---> 17\u001b[1;33m \u001b[0mgrid\u001b[0m\u001b[1;33m,\u001b[0m \u001b[0malpha\u001b[0m \u001b[1;33m=\u001b[0m \u001b[0msgde\u001b[0m\u001b[1;33m.\u001b[0m\u001b[0mrun\u001b[0m\u001b[1;33m(\u001b[0m\u001b[1;33m)\u001b[0m\u001b[1;33m\u001b[0m\u001b[0m\n\u001b[0m",
        "\u001b[1;32m/home/perun/Documents/workspace/idp-karthik/density_estimation/SGDensityEstimator.py\u001b[0m in \u001b[0;36mrun\u001b[1;34m(self)\u001b[0m\n\u001b[0;32m    365\u001b[0m             \u001b[1;32mif\u001b[0m \u001b[0mf_val_at_alpha\u001b[0m \u001b[1;33m==\u001b[0m \u001b[0mNone\u001b[0m\u001b[1;33m:\u001b[0m \u001b[0mf_val_at_alpha\u001b[0m \u001b[1;33m=\u001b[0m \u001b[0mnegate_loglike\u001b[0m\u001b[1;33m(\u001b[0m\u001b[0mself\u001b[0m\u001b[1;33m.\u001b[0m\u001b[0malpha\u001b[0m\u001b[1;33m)\u001b[0m\u001b[1;33m\u001b[0m\u001b[0m\n\u001b[0;32m    366\u001b[0m             learning_rate, f_count, f_val_at_alpha = sp.optimize.linesearch.line_search_armijo(negate_loglike, \n\u001b[1;32m--> 367\u001b[1;33m                         self.alpha, alpha_direction, p_k, f_val_at_alpha, alpha0=.3)\n\u001b[0m\u001b[0;32m    368\u001b[0m             \u001b[1;32mif\u001b[0m \u001b[0mlearning_rate\u001b[0m \u001b[1;33m==\u001b[0m \u001b[0mNone\u001b[0m \u001b[1;32mor\u001b[0m \u001b[0mlearning_rate\u001b[0m \u001b[1;33m<\u001b[0m \u001b[1;36m0\u001b[0m\u001b[1;33m:\u001b[0m\u001b[1;33m\u001b[0m\u001b[0m\n\u001b[0;32m    369\u001b[0m                 \u001b[0mlearning_rate\u001b[0m \u001b[1;33m=\u001b[0m \u001b[1;36m1e-3\u001b[0m\u001b[1;33m\u001b[0m\u001b[0m\n",
        "\u001b[1;32m/usr/local/lib/python2.7/dist-packages/scipy/optimize/linesearch.pyc\u001b[0m in \u001b[0;36mline_search_armijo\u001b[1;34m(f, xk, pk, gfk, old_fval, args, c1, alpha0)\u001b[0m\n\u001b[0;32m    590\u001b[0m     \u001b[0mderphi0\u001b[0m \u001b[1;33m=\u001b[0m \u001b[0mnp\u001b[0m\u001b[1;33m.\u001b[0m\u001b[0mdot\u001b[0m\u001b[1;33m(\u001b[0m\u001b[0mgfk\u001b[0m\u001b[1;33m,\u001b[0m \u001b[0mpk\u001b[0m\u001b[1;33m)\u001b[0m\u001b[1;33m\u001b[0m\u001b[0m\n\u001b[0;32m    591\u001b[0m     alpha, phi1 = scalar_search_armijo(phi, phi0, derphi0, c1=c1,\n\u001b[1;32m--> 592\u001b[1;33m                                        alpha0=alpha0)\n\u001b[0m\u001b[0;32m    593\u001b[0m     \u001b[1;32mreturn\u001b[0m \u001b[0malpha\u001b[0m\u001b[1;33m,\u001b[0m \u001b[0mfc\u001b[0m\u001b[1;33m[\u001b[0m\u001b[1;36m0\u001b[0m\u001b[1;33m]\u001b[0m\u001b[1;33m,\u001b[0m \u001b[0mphi1\u001b[0m\u001b[1;33m\u001b[0m\u001b[0m\n\u001b[0;32m    594\u001b[0m \u001b[1;33m\u001b[0m\u001b[0m\n",
        "\u001b[1;32m/usr/local/lib/python2.7/dist-packages/scipy/optimize/linesearch.pyc\u001b[0m in \u001b[0;36mscalar_search_armijo\u001b[1;34m(phi, phi0, derphi0, c1, alpha0, amin)\u001b[0m\n\u001b[0;32m    624\u001b[0m \u001b[1;33m\u001b[0m\u001b[0m\n\u001b[0;32m    625\u001b[0m     \u001b[0malpha1\u001b[0m \u001b[1;33m=\u001b[0m \u001b[1;33m-\u001b[0m\u001b[1;33m(\u001b[0m\u001b[0mderphi0\u001b[0m\u001b[1;33m)\u001b[0m \u001b[1;33m*\u001b[0m \u001b[0malpha0\u001b[0m\u001b[1;33m**\u001b[0m\u001b[1;36m2\u001b[0m \u001b[1;33m/\u001b[0m \u001b[1;36m2.0\u001b[0m \u001b[1;33m/\u001b[0m \u001b[1;33m(\u001b[0m\u001b[0mphi_a0\u001b[0m \u001b[1;33m-\u001b[0m \u001b[0mphi0\u001b[0m \u001b[1;33m-\u001b[0m \u001b[0mderphi0\u001b[0m \u001b[1;33m*\u001b[0m \u001b[0malpha0\u001b[0m\u001b[1;33m)\u001b[0m\u001b[1;33m\u001b[0m\u001b[0m\n\u001b[1;32m--> 626\u001b[1;33m     \u001b[0mphi_a1\u001b[0m \u001b[1;33m=\u001b[0m \u001b[0mphi\u001b[0m\u001b[1;33m(\u001b[0m\u001b[0malpha1\u001b[0m\u001b[1;33m)\u001b[0m\u001b[1;33m\u001b[0m\u001b[0m\n\u001b[0m\u001b[0;32m    627\u001b[0m \u001b[1;33m\u001b[0m\u001b[0m\n\u001b[0;32m    628\u001b[0m     \u001b[1;32mif\u001b[0m \u001b[1;33m(\u001b[0m\u001b[0mphi_a1\u001b[0m \u001b[1;33m<=\u001b[0m \u001b[0mphi0\u001b[0m \u001b[1;33m+\u001b[0m \u001b[0mc1\u001b[0m\u001b[1;33m*\u001b[0m\u001b[0malpha1\u001b[0m\u001b[1;33m*\u001b[0m\u001b[0mderphi0\u001b[0m\u001b[1;33m)\u001b[0m\u001b[1;33m:\u001b[0m\u001b[1;33m\u001b[0m\u001b[0m\n",
        "\u001b[1;32m/usr/local/lib/python2.7/dist-packages/scipy/optimize/linesearch.pyc\u001b[0m in \u001b[0;36mphi\u001b[1;34m(alpha1)\u001b[0m\n\u001b[0;32m    581\u001b[0m     \u001b[1;32mdef\u001b[0m \u001b[0mphi\u001b[0m\u001b[1;33m(\u001b[0m\u001b[0malpha1\u001b[0m\u001b[1;33m)\u001b[0m\u001b[1;33m:\u001b[0m\u001b[1;33m\u001b[0m\u001b[0m\n\u001b[0;32m    582\u001b[0m         \u001b[0mfc\u001b[0m\u001b[1;33m[\u001b[0m\u001b[1;36m0\u001b[0m\u001b[1;33m]\u001b[0m \u001b[1;33m+=\u001b[0m \u001b[1;36m1\u001b[0m\u001b[1;33m\u001b[0m\u001b[0m\n\u001b[1;32m--> 583\u001b[1;33m         \u001b[1;32mreturn\u001b[0m \u001b[0mf\u001b[0m\u001b[1;33m(\u001b[0m\u001b[0mxk\u001b[0m \u001b[1;33m+\u001b[0m \u001b[0malpha1\u001b[0m\u001b[1;33m*\u001b[0m\u001b[0mpk\u001b[0m\u001b[1;33m,\u001b[0m \u001b[1;33m*\u001b[0m\u001b[0margs\u001b[0m\u001b[1;33m)\u001b[0m\u001b[1;33m\u001b[0m\u001b[0m\n\u001b[0m\u001b[0;32m    584\u001b[0m \u001b[1;33m\u001b[0m\u001b[0m\n\u001b[0;32m    585\u001b[0m     \u001b[1;32mif\u001b[0m \u001b[0mold_fval\u001b[0m \u001b[1;32mis\u001b[0m \u001b[0mNone\u001b[0m\u001b[1;33m:\u001b[0m\u001b[1;33m\u001b[0m\u001b[0m\n",
        "\u001b[1;32m/home/perun/Documents/workspace/idp-karthik/density_estimation/SGDensityEstimator.py\u001b[0m in \u001b[0;36m<lambda>\u001b[1;34m(theta)\u001b[0m\n\u001b[0;32m    362\u001b[0m             \u001b[1;31m# \\alpha^{iteration_step+1} = \\alpha^{iteration_step} + \\omega \\tilde{\\alpha} \"\"\"\u001b[0m\u001b[1;33m\u001b[0m\u001b[1;33m\u001b[0m\u001b[0m\n\u001b[0;32m    363\u001b[0m             \u001b[1;31m# TODO: the call to self.compute_pseudo_loglikelihood(self.alpha) can be saved\u001b[0m\u001b[1;33m\u001b[0m\u001b[1;33m\u001b[0m\u001b[0m\n\u001b[1;32m--> 364\u001b[1;33m             \u001b[0mnegate_loglike\u001b[0m \u001b[1;33m=\u001b[0m \u001b[1;32mlambda\u001b[0m \u001b[0mtheta\u001b[0m\u001b[1;33m:\u001b[0m \u001b[1;33m-\u001b[0m\u001b[0mself\u001b[0m\u001b[1;33m.\u001b[0m\u001b[0mcompute_pseudo_loglikelihood\u001b[0m\u001b[1;33m(\u001b[0m\u001b[0mtheta\u001b[0m\u001b[1;33m)\u001b[0m\u001b[1;33m\u001b[0m\u001b[0m\n\u001b[0m\u001b[0;32m    365\u001b[0m             \u001b[1;32mif\u001b[0m \u001b[0mf_val_at_alpha\u001b[0m \u001b[1;33m==\u001b[0m \u001b[0mNone\u001b[0m\u001b[1;33m:\u001b[0m \u001b[0mf_val_at_alpha\u001b[0m \u001b[1;33m=\u001b[0m \u001b[0mnegate_loglike\u001b[0m\u001b[1;33m(\u001b[0m\u001b[0mself\u001b[0m\u001b[1;33m.\u001b[0m\u001b[0malpha\u001b[0m\u001b[1;33m)\u001b[0m\u001b[1;33m\u001b[0m\u001b[0m\n\u001b[0;32m    366\u001b[0m             learning_rate, f_count, f_val_at_alpha = sp.optimize.linesearch.line_search_armijo(negate_loglike, \n",
        "\u001b[1;32m/home/perun/Documents/workspace/idp-karthik/density_estimation/SGDensityEstimator.py\u001b[0m in \u001b[0;36mcompute_pseudo_loglikelihood\u001b[1;34m(self, theta)\u001b[0m\n\u001b[0;32m    244\u001b[0m         \u001b[1;32mfor\u001b[0m \u001b[0mx\u001b[0m \u001b[1;32min\u001b[0m \u001b[0mself\u001b[0m\u001b[1;33m.\u001b[0m\u001b[0mdata\u001b[0m\u001b[1;33m.\u001b[0m\u001b[0marray\u001b[0m\u001b[1;33m(\u001b[0m\u001b[1;33m)\u001b[0m\u001b[1;33m:\u001b[0m\u001b[1;33m\u001b[0m\u001b[0m\n\u001b[0;32m    245\u001b[0m             \u001b[1;32mfor\u001b[0m \u001b[0mj\u001b[0m \u001b[1;32min\u001b[0m \u001b[0mxrange\u001b[0m\u001b[1;33m(\u001b[0m\u001b[0mn\u001b[0m\u001b[1;33m)\u001b[0m\u001b[1;33m:\u001b[0m\u001b[1;33m\u001b[0m\u001b[0m\n\u001b[1;32m--> 246\u001b[1;33m                 \u001b[0mpseudo_loglikelihood\u001b[0m \u001b[1;33m+=\u001b[0m \u001b[0mself\u001b[0m\u001b[1;33m.\u001b[0m\u001b[0m__get_cond_unnorm_prob\u001b[0m\u001b[1;33m(\u001b[0m\u001b[0mx\u001b[0m\u001b[1;33m,\u001b[0m \u001b[0mj\u001b[0m\u001b[1;33m,\u001b[0m \u001b[0mtheta\u001b[0m\u001b[1;33m)\u001b[0m\u001b[1;33m\u001b[0m\u001b[0m\n\u001b[0m\u001b[0;32m    247\u001b[0m \u001b[1;33m\u001b[0m\u001b[0m\n\u001b[0;32m    248\u001b[0m         \u001b[1;32mreturn\u001b[0m \u001b[0mpseudo_loglikelihood\u001b[0m\u001b[1;33m/\u001b[0m\u001b[0mM\u001b[0m\u001b[1;33m\u001b[0m\u001b[0m\n",
        "\u001b[1;32m/home/perun/Documents/workspace/idp-karthik/density_estimation/SGDensityEstimator.py\u001b[0m in \u001b[0;36m__get_cond_unnorm_prob\u001b[1;34m(self, x, j, theta)\u001b[0m\n\u001b[0;32m    228\u001b[0m             \u001b[0mpydevd\u001b[0m\u001b[1;33m.\u001b[0m\u001b[0msettrace\u001b[0m\u001b[1;33m(\u001b[0m\u001b[1;33m)\u001b[0m\u001b[1;33m;\u001b[0m\u001b[1;33m\u001b[0m\u001b[0m\n\u001b[0;32m    229\u001b[0m             \u001b[1;32mpass\u001b[0m\u001b[1;33m\u001b[0m\u001b[0m\n\u001b[1;32m--> 230\u001b[1;33m         \u001b[1;32mreturn\u001b[0m \u001b[0mresult\u001b[0m\u001b[1;33m\u001b[0m\u001b[0m\n\u001b[0m\u001b[0;32m    231\u001b[0m \u001b[1;33m\u001b[0m\u001b[0m\n\u001b[0;32m    232\u001b[0m \u001b[1;33m\u001b[0m\u001b[0m\n",
        "\u001b[1;31mUnboundLocalError\u001b[0m: local variable 'result' referenced before assignment"
       ]
      }
     ],
     "prompt_number": 5
    },
    {
     "cell_type": "code",
     "collapsed": false,
     "input": [
      "de.__"
     ],
     "language": "python",
     "metadata": {},
     "outputs": []
    },
    {
     "cell_type": "code",
     "collapsed": false,
     "input": [],
     "language": "python",
     "metadata": {},
     "outputs": []
    }
   ],
   "metadata": {}
  }
 ]
}