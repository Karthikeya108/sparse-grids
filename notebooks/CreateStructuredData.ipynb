{
 "metadata": {
  "name": ""
 },
 "nbformat": 3,
 "nbformat_minor": 0,
 "worksheets": [
  {
   "cells": [
    {
     "cell_type": "code",
     "collapsed": false,
     "input": [
      "%pylab inline\n",
      "import sys\n",
      "#sys.path.append('/home/karthikeya/svn/repo/lib/pysgpp')\n",
      "import pymc as pm\n",
      "import pysgpp\n",
      "import numpy as np\n",
      "import scipy as sp\n",
      "from scipy.stats import norm\n",
      "from scipy.integrate import *\n",
      "import copy\n",
      "from optparse import OptionParser\n",
      "from tools import *\n",
      "from SGDensityEstimator  import *\n",
      "from IPython.display import Image"
     ],
     "language": "python",
     "metadata": {},
     "outputs": [
      {
       "output_type": "stream",
       "stream": "stdout",
       "text": [
        "Populating the interactive namespace from numpy and matplotlib\n"
       ]
      },
      {
       "output_type": "stream",
       "stream": "stderr",
       "text": [
        "WARNING: pylab import has clobbered these variables: ['copy', 'power', 'sinh', 'trunc', 'tan', 'degrees', 'radians', 'sin', 'fmod', 'expm1', 'ldexp', 'array', 'cosh', 'linalg', 'isnan', 'random', 'frexp', 'ceil', 'copysign', 'cos', 'tanh', 'fabs', 'sqrt', 'floor', 'hypot', 'fft', 'gamma', 'log', 'log10', 'info', 'log1p', 'modf', 'pi', 'exp', 'isinf', 'e']\n",
        "`%pylab --no-import-all` prevents importing * from pylab and numpy\n"
       ]
      }
     ],
     "prompt_number": 8
    },
    {
     "cell_type": "code",
     "collapsed": false,
     "input": [
      "dim_ds = 4\n",
      "level_ds = 4\n",
      "grid_ds = pysgpp.Grid.createLinearGrid(dim_ds)\n",
      "generator_ds = grid_ds.createGridGenerator()\n",
      "generator_ds.regular(level_ds)\n",
      "storage_ds = grid_ds.getStorage()\n",
      "alpha_ds = pysgpp.DataVector(grid_ds.getSize())\n",
      "alpha_ds = sp.stats.truncnorm.rvs(-0.2, 0.2, scale=0.2, size = grid_ds.getSize())\n",
      "\n",
      "# Create a fully connected factor graph\n",
      "factor_graph_ds = Factor_Graph(int(dim_ds))\n",
      "factor_graph_ds.create_factor_graph(2)\n",
      "\n",
      "#factor_graph_ds.coarsen_factor_graph([(0,2),(1, 3)])"
     ],
     "language": "python",
     "metadata": {},
     "outputs": [
      {
       "output_type": "stream",
       "stream": "stdout",
       "text": [
        "{1: [(0,), (1,), (2,), (3,)], 2: [(0, 1), (0, 2), (0, 3), (1, 2), (1, 3), (2, 3)]}\n"
       ]
      }
     ],
     "prompt_number": 9
    },
    {
     "cell_type": "code",
     "collapsed": false,
     "input": [
      "def make_model_ds(grid, alpha):\n",
      "    \"\"\" Creates the variables for my graphical model. This function is not generic\"\"\"\n",
      "    x = np.empty(4, dtype=object)\n",
      "    for i in xrange(4):\n",
      "        #x[i] = pm.distributions.Uniform('x'+str(i), lower=0, upper=1.0)\n",
      "        # Normal distribution for diagnostics\n",
      "        x[i] = pm.distributions.Normal('x'+str(i), mu= 0.5, tau=100)\n",
      "    \n",
      "    # univariate potentials\n",
      "    def psi_i_logp (anova, i): \n",
      "        return anova[(i,)]\n",
      "    psi_i = np.empty(4, dtype=object)\n",
      "    \n",
      "    # bivariate potentials\n",
      "    def psi_ij_logp (anova, i, j): \n",
      "        return anova[tuple(sorted([i,j]))]\n",
      "    psi_ij = np.empty(4, dtype=object)\n",
      "    \n",
      "    \n",
      "    # anova components as deterministic variable\n",
      "    def compute_ANOVA_components(x, alpha, grid):\n",
      "        \"\"\"Evaluates the sparse grid at the point x and returns \n",
      "           the individual ANOVA components of the result\"\"\"\n",
      "        x = np.hstack(x).reshape(1, -1)\n",
      "        dataPoint = pysgpp.DataMatrix(x)\n",
      "        result = pysgpp.DataVector(grid.getSize())\n",
      "        result.setAll(0.0)\n",
      "        a = pysgpp.DataVector(1)\n",
      "        a[0] = 1.0\n",
      "        opMultipleEval = pysgpp.createOperationMultipleEval(grid, dataPoint)\n",
      "        opMultipleEval.multTranspose(a, result)\n",
      "        result = result.array()*alpha\n",
      "        \n",
      "        anovaComponents = {(-1,):0}\n",
      "        for i in xrange(4):\n",
      "            anovaComponents[(i,)] = 0\n",
      "            anovaComponents[tuple(sorted((i, (i+1)%4)))] = 0\n",
      "       \n",
      "        storage = grid.getStorage()\n",
      "        for i in xrange(grid.getSize()):\n",
      "            grid_index = storage.get(i)\n",
      "            key = []\n",
      "            for d in xrange(4):\n",
      "                levelDimension = grid_index.getLevel(d)\n",
      "                if levelDimension != 1:\n",
      "                    key.append(d)\n",
      "            if key == []: anovaComponents[(-1,)] += result[i]\n",
      "            else:\n",
      "                key = tuple(key)\n",
      "                if key in anovaComponents:\n",
      "                    anovaComponents[key] += result[i]\n",
      "                    \n",
      "        #print anovaComponents\n",
      "        return anovaComponents # it is fine to return dictionary            \n",
      "          \n",
      "    anova = pm.Deterministic(eval = lambda x: compute_ANOVA_components(x, alpha, grid),\n",
      "                  name = 'anova',\n",
      "                  parents = {'x': x},\n",
      "                  doc = 'Individual anova component contributions',\n",
      "                  trace = True,\n",
      "                  verbose = 0,\n",
      "                  plot=False,\n",
      "                  cache_depth = 2)\n",
      "\n",
      "    # constant factor ot the ANOVA component\n",
      "    psi_0 = pm.Potential(logp = lambda anova: anova[(-1,)],\n",
      "                            name = 'psi_0',\n",
      "                            parents = {'anova': anova},\n",
      "                            doc = 'Potential corresponding to the constant factor',\n",
      "                            verbose = 0,\n",
      "                            cache_depth = 1)\n",
      "    \n",
      "    \n",
      "    for i in xrange(4):  \n",
      "        psi_i[i] = pm.Potential(logp = lambda anova, i=i: psi_i_logp(anova, i),\n",
      "                            name = 'psi_i'+str(i),\n",
      "                            parents = {'anova': anova},\n",
      "                            doc = 'A univariate potential',\n",
      "                            verbose = 0,\n",
      "                            cache_depth = 1)\n",
      "    \n",
      "    for i in xrange(4):  \n",
      "        j = (i+1)%4 # this is just how I connect the variables in my graphical model. It's not generic\n",
      "        psi_ij[i] = pm.Potential(logp = lambda anova, i=i, j=j: psi_ij_logp(anova, i, j),\n",
      "                            name = 'psi_ij%d%d'%(i,j),\n",
      "                            parents = {'anova': anova},\n",
      "                            doc = 'A bivariate potential',\n",
      "                            verbose = 0,\n",
      "                            cache_depth = 2)\n",
      "\n",
      "    # for some reason pm.Model cannot be created is the arrays are not converted to\n",
      "    # ArrayContainers before (dict. name becomes an integer and Python complains)\n",
      "    x = pm.ArrayContainer(x)\n",
      "    psi_i = pm.ArrayContainer(psi_i)\n",
      "    psi_ij = pm.ArrayContainer(psi_ij)\n",
      "    return locals()"
     ],
     "language": "python",
     "metadata": {},
     "outputs": [],
     "prompt_number": 10
    },
    {
     "cell_type": "code",
     "collapsed": false,
     "input": [
      "model_ds = pm.Model(input=make_model_ds(grid_ds, alpha_ds), name=\"normal_dep\")"
     ],
     "language": "python",
     "metadata": {},
     "outputs": [],
     "prompt_number": 11
    },
    {
     "cell_type": "code",
     "collapsed": false,
     "input": [
      "dot = pm.graph.moral_graph(model_ds)\n",
      "dot.write_png(\"graph2.png\")\n",
      "Image(filename='graph2.png') "
     ],
     "language": "python",
     "metadata": {},
     "outputs": [
      {
       "metadata": {},
       "output_type": "pyout",
       "png": "[encoded data removed]",
       "prompt_number": 12,
       "text": [
        "<IPython.core.display.Image at 0x7fd75be85e50>"
       ]
      }
     ],
     "prompt_number": 12
    },
    {
     "cell_type": "code",
     "collapsed": false,
     "input": [
      "mcmc_ds = pm.MCMC(model_ds, name=\"MCMC\")\n",
      "mcmc_ds.sample(iter=10000, burn=100, thin=5)"
     ],
     "language": "python",
     "metadata": {},
     "outputs": [
      {
       "output_type": "stream",
       "stream": "stdout",
       "text": [
        "\r",
        " [                  1%                  ] 170 of 10000 complete in 0.5 sec"
       ]
      },
      {
       "output_type": "stream",
       "stream": "stdout",
       "text": [
        "\r",
        " [-                 3%                  ] 352 of 10000 complete in 1.0 sec"
       ]
      },
      {
       "output_type": "stream",
       "stream": "stdout",
       "text": [
        "\r",
        " [--                5%                  ] 537 of 10000 complete in 1.5 sec"
       ]
      },
      {
       "output_type": "stream",
       "stream": "stdout",
       "text": [
        "\r",
        " [--                7%                  ] 722 of 10000 complete in 2.0 sec"
       ]
      },
      {
       "output_type": "stream",
       "stream": "stdout",
       "text": [
        "\r",
        " [---               9%                  ] 907 of 10000 complete in 2.5 sec"
       ]
      },
      {
       "output_type": "stream",
       "stream": "stdout",
       "text": [
        "\r",
        " [----             10%                  ] 1092 of 10000 complete in 3.0 sec"
       ]
      },
      {
       "output_type": "stream",
       "stream": "stdout",
       "text": [
        "\r",
        " [----             12%                  ] 1277 of 10000 complete in 3.5 sec"
       ]
      },
      {
       "output_type": "stream",
       "stream": "stdout",
       "text": [
        "\r",
        " [-----            14%                  ] 1459 of 10000 complete in 4.0 sec"
       ]
      },
      {
       "output_type": "stream",
       "stream": "stdout",
       "text": [
        "\r",
        " [------           16%                  ] 1645 of 10000 complete in 4.5 sec"
       ]
      },
      {
       "output_type": "stream",
       "stream": "stdout",
       "text": [
        "\r",
        " [------           18%                  ] 1828 of 10000 complete in 5.0 sec"
       ]
      },
      {
       "output_type": "stream",
       "stream": "stdout",
       "text": [
        "\r",
        " [-------          20%                  ] 2010 of 10000 complete in 5.5 sec"
       ]
      },
      {
       "output_type": "stream",
       "stream": "stdout",
       "text": [
        "\r",
        " [--------         21%                  ] 2194 of 10000 complete in 6.0 sec"
       ]
      },
      {
       "output_type": "stream",
       "stream": "stdout",
       "text": [
        "\r",
        " [---------        23%                  ] 2381 of 10000 complete in 6.5 sec"
       ]
      },
      {
       "output_type": "stream",
       "stream": "stdout",
       "text": [
        "\r",
        " [---------        25%                  ] 2563 of 10000 complete in 7.0 sec"
       ]
      },
      {
       "output_type": "stream",
       "stream": "stdout",
       "text": [
        "\r",
        " [----------       27%                  ] 2749 of 10000 complete in 7.5 sec"
       ]
      },
      {
       "output_type": "stream",
       "stream": "stdout",
       "text": [
        "\r",
        " [-----------      29%                  ] 2930 of 10000 complete in 8.0 sec"
       ]
      },
      {
       "output_type": "stream",
       "stream": "stdout",
       "text": [
        "\r",
        " [-----------      31%                  ] 3115 of 10000 complete in 8.5 sec"
       ]
      },
      {
       "output_type": "stream",
       "stream": "stdout",
       "text": [
        "\r",
        " [------------     32%                  ] 3297 of 10000 complete in 9.0 sec"
       ]
      },
      {
       "output_type": "stream",
       "stream": "stdout",
       "text": [
        "\r",
        " [-------------    34%                  ] 3479 of 10000 complete in 9.5 sec"
       ]
      },
      {
       "output_type": "stream",
       "stream": "stdout",
       "text": [
        "\r",
        " [-------------    36%                  ] 3661 of 10000 complete in 10.0 sec"
       ]
      },
      {
       "output_type": "stream",
       "stream": "stdout",
       "text": [
        "\r",
        " [--------------   38%                  ] 3847 of 10000 complete in 10.5 sec"
       ]
      },
      {
       "output_type": "stream",
       "stream": "stdout",
       "text": [
        "\r",
        " [---------------  40%                  ] 4032 of 10000 complete in 11.0 sec"
       ]
      },
      {
       "output_type": "stream",
       "stream": "stdout",
       "text": [
        "\r",
        " [---------------- 42%                  ] 4217 of 10000 complete in 11.5 sec"
       ]
      },
      {
       "output_type": "stream",
       "stream": "stdout",
       "text": [
        "\r",
        " [---------------- 44%                  ] 4401 of 10000 complete in 12.0 sec"
       ]
      },
      {
       "output_type": "stream",
       "stream": "stdout",
       "text": [
        "\r",
        " [-----------------45%                  ] 4588 of 10000 complete in 12.5 sec"
       ]
      },
      {
       "output_type": "stream",
       "stream": "stdout",
       "text": [
        "\r",
        " [-----------------47%                  ] 4773 of 10000 complete in 13.0 sec"
       ]
      },
      {
       "output_type": "stream",
       "stream": "stdout",
       "text": [
        "\r",
        " [-----------------49%                  ] 4956 of 10000 complete in 13.5 sec"
       ]
      },
      {
       "output_type": "stream",
       "stream": "stdout",
       "text": [
        "\r",
        " [-----------------51%                  ] 5141 of 10000 complete in 14.0 sec"
       ]
      },
      {
       "output_type": "stream",
       "stream": "stdout",
       "text": [
        "\r",
        " [-----------------53%                  ] 5326 of 10000 complete in 14.5 sec"
       ]
      },
      {
       "output_type": "stream",
       "stream": "stdout",
       "text": [
        "\r",
        " [-----------------55%                  ] 5509 of 10000 complete in 15.0 sec"
       ]
      },
      {
       "output_type": "stream",
       "stream": "stdout",
       "text": [
        "\r",
        " [-----------------56%-                 ] 5691 of 10000 complete in 15.5 sec"
       ]
      },
      {
       "output_type": "stream",
       "stream": "stdout",
       "text": [
        "\r",
        " [-----------------58%--                ] 5874 of 10000 complete in 16.0 sec"
       ]
      },
      {
       "output_type": "stream",
       "stream": "stdout",
       "text": [
        "\r",
        " [-----------------60%---               ] 6059 of 10000 complete in 16.5 sec"
       ]
      },
      {
       "output_type": "stream",
       "stream": "stdout",
       "text": [
        "\r",
        " [-----------------62%---               ] 6245 of 10000 complete in 17.0 sec"
       ]
      },
      {
       "output_type": "stream",
       "stream": "stdout",
       "text": [
        "\r",
        " [-----------------64%----              ] 6431 of 10000 complete in 17.5 sec"
       ]
      },
      {
       "output_type": "stream",
       "stream": "stdout",
       "text": [
        "\r",
        " [-----------------66%-----             ] 6614 of 10000 complete in 18.1 sec"
       ]
      },
      {
       "output_type": "stream",
       "stream": "stdout",
       "text": [
        "\r",
        " [-----------------68%-----             ] 6801 of 10000 complete in 18.6 sec"
       ]
      },
      {
       "output_type": "stream",
       "stream": "stdout",
       "text": [
        "\r",
        " [-----------------69%------            ] 6983 of 10000 complete in 19.1 sec"
       ]
      },
      {
       "output_type": "stream",
       "stream": "stdout",
       "text": [
        "\r",
        " [-----------------71%-------           ] 7166 of 10000 complete in 19.6 sec"
       ]
      },
      {
       "output_type": "stream",
       "stream": "stdout",
       "text": [
        "\r",
        " [-----------------73%-------           ] 7351 of 10000 complete in 20.1 sec"
       ]
      },
      {
       "output_type": "stream",
       "stream": "stdout",
       "text": [
        "\r",
        " [-----------------75%--------          ] 7535 of 10000 complete in 20.6 sec"
       ]
      },
      {
       "output_type": "stream",
       "stream": "stdout",
       "text": [
        "\r",
        " [-----------------77%---------         ] 7719 of 10000 complete in 21.1 sec"
       ]
      },
      {
       "output_type": "stream",
       "stream": "stdout",
       "text": [
        "\r",
        " [-----------------79%----------        ] 7904 of 10000 complete in 21.6 sec"
       ]
      },
      {
       "output_type": "stream",
       "stream": "stdout",
       "text": [
        "\r",
        " [-----------------80%----------        ] 8090 of 10000 complete in 22.1 sec"
       ]
      },
      {
       "output_type": "stream",
       "stream": "stdout",
       "text": [
        "\r",
        " [-----------------82%-----------       ] 8264 of 10000 complete in 22.6 sec"
       ]
      },
      {
       "output_type": "stream",
       "stream": "stdout",
       "text": [
        "\r",
        " [-----------------84%------------      ] 8423 of 10000 complete in 23.1 sec"
       ]
      },
      {
       "output_type": "stream",
       "stream": "stdout",
       "text": [
        "\r",
        " [-----------------85%------------      ] 8590 of 10000 complete in 23.6 sec"
       ]
      },
      {
       "output_type": "stream",
       "stream": "stdout",
       "text": [
        "\r",
        " [-----------------87%-------------     ] 8739 of 10000 complete in 24.1 sec"
       ]
      },
      {
       "output_type": "stream",
       "stream": "stdout",
       "text": [
        "\r",
        " [-----------------88%-------------     ] 8880 of 10000 complete in 24.6 sec"
       ]
      },
      {
       "output_type": "stream",
       "stream": "stdout",
       "text": [
        "\r",
        " [-----------------90%--------------    ] 9023 of 10000 complete in 25.1 sec"
       ]
      },
      {
       "output_type": "stream",
       "stream": "stdout",
       "text": [
        "\r",
        " [-----------------91%--------------    ] 9191 of 10000 complete in 25.6 sec"
       ]
      },
      {
       "output_type": "stream",
       "stream": "stdout",
       "text": [
        "\r",
        " [-----------------93%---------------   ] 9382 of 10000 complete in 26.1 sec"
       ]
      },
      {
       "output_type": "stream",
       "stream": "stdout",
       "text": [
        "\r",
        " [-----------------95%----------------  ] 9572 of 10000 complete in 26.6 sec"
       ]
      },
      {
       "output_type": "stream",
       "stream": "stdout",
       "text": [
        "\r",
        " [-----------------97%----------------- ] 9756 of 10000 complete in 27.1 sec"
       ]
      },
      {
       "output_type": "stream",
       "stream": "stdout",
       "text": [
        "\r",
        " [-----------------99%----------------- ] 9936 of 10000 complete in 27.6 sec"
       ]
      },
      {
       "output_type": "stream",
       "stream": "stdout",
       "text": [
        "\r",
        " [-----------------100%-----------------] 10000 of 10000 complete in 27.7 sec"
       ]
      }
     ],
     "prompt_number": 13
    },
    {
     "cell_type": "code",
     "collapsed": false,
     "input": [
      "data = np.vstack([model_ds.x[i].trace() for i in xrange(dim_ds)]).T"
     ],
     "language": "python",
     "metadata": {},
     "outputs": [],
     "prompt_number": 14
    },
    {
     "cell_type": "code",
     "collapsed": false,
     "input": [
      "from sklearn.preprocessing import MinMaxScaler\n",
      "data = MinMaxScaler(copy=False).fit_transform(data)"
     ],
     "language": "python",
     "metadata": {},
     "outputs": [],
     "prompt_number": 15
    },
    {
     "cell_type": "code",
     "collapsed": false,
     "input": [
      "X = pysgpp.DataMatrix(data)\n",
      "print X.getNrows()\n",
      "print X.getNcols()\n",
      "print np.round(np.cov(np.array(data).T),decimals=4)"
     ],
     "language": "python",
     "metadata": {},
     "outputs": [
      {
       "output_type": "stream",
       "stream": "stdout",
       "text": [
        "1980\n",
        "4\n",
        "[[ 0.0205 -0.0001  0.0004  0.0004]\n",
        " [-0.0001  0.0145  0.0006 -0.0003]\n",
        " [ 0.0004  0.0006  0.0174 -0.0003]\n",
        " [ 0.0004 -0.0003 -0.0003  0.0199]]\n"
       ]
      }
     ],
     "prompt_number": 16
    },
    {
     "cell_type": "code",
     "collapsed": false,
     "input": [],
     "language": "python",
     "metadata": {},
     "outputs": []
    }
   ],
   "metadata": {}
  }
 ]
}