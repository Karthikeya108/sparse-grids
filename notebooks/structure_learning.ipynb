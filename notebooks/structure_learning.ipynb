{
 "metadata": {
  "name": ""
 },
 "nbformat": 3,
 "nbformat_minor": 0,
 "worksheets": [
  {
   "cells": [
    {
     "cell_type": "code",
     "collapsed": false,
     "input": [
      "import sys\n",
      "sys.path.append('/home/karthikeya/svn/repo/lib/pysgpp')\n",
      "import pymc as pm\n",
      "import pysgpp\n",
      "import numpy as np\n",
      "import scipy as sp\n",
      "from scipy.stats import norm\n",
      "from scipy.integrate import *\n",
      "import copy\n",
      "from optparse import OptionParser\n",
      "from tools import *\n",
      "from SGDensityEstimator  import *"
     ],
     "language": "python",
     "metadata": {},
     "outputs": [],
     "prompt_number": 21
    },
    {
     "cell_type": "code",
     "collapsed": false,
     "input": [
      "dim = 4\n",
      "level = 5\n",
      "grid = pysgpp.Grid.createModLinearGrid(dim)\n",
      "generator = grid.createGridGenerator()\n",
      "generator.regular(level)\n",
      "print \"Grid size:\", grid.getSize()"
     ],
     "language": "python",
     "metadata": {},
     "outputs": [
      {
       "output_type": "stream",
       "stream": "stdout",
       "text": [
        "Grid size: 769\n"
       ]
      }
     ],
     "prompt_number": 22
    },
    {
     "cell_type": "code",
     "collapsed": false,
     "input": [
      "storage = grid.getStorage()\n",
      "alpha = pysgpp.DataVector(grid.getSize())\n",
      "alpha.setAll(1.0)\n",
      "delete_counter = 0\n",
      "for i in xrange(grid.getSize()):\n",
      "    grid_index = storage.get(i)\n",
      "    levels = []\n",
      "    for d in xrange(dim):\n",
      "        if grid_index.getLevel(d) != 1:\n",
      "            levels.append(d)\n",
      "    # this part is customary to my particular example. something more general should be programmed later\n",
      "    if len(levels) >= 3 \\\n",
      "    or (len(levels) == 2 and ((levels[0] +1) != levels[1] and (levels[1] +1)%dim != levels[0])):\n",
      "        alpha[i] = 0\n",
      "        delete_counter += 1\n",
      "coarseningFunctor = pysgpp.SurplusCoarseningFunctor(alpha, delete_counter, 0.5)\n",
      "grid.createGridGenerator().coarsen(coarseningFunctor, alpha)\n",
      "size = grid.getSize()\n",
      "print \"New grid size:\", grid.getSize()\n",
      "print \"Continue execute the block until the grid size stops changing\""
     ],
     "language": "python",
     "metadata": {},
     "outputs": [
      {
       "output_type": "stream",
       "stream": "stdout",
       "text": [
        "New grid size: 465\n",
        "Continue execute the block until the grid size stops changing\n"
       ]
      }
     ],
     "prompt_number": 23
    },
    {
     "cell_type": "code",
     "collapsed": false,
     "input": [
      "def make_model():\n",
      "    \"\"\" Creates the variables for my graphical model. This function is not generic\"\"\"\n",
      "    x = np.empty(4, dtype=object)\n",
      "    for i in xrange(4):\n",
      "        x[i] = pm.distributions.Uniform('x'+str(i), lower=0, upper=1.0)\n",
      "        # Normal distribution for diagnostics\n",
      "        # x[i] = pm.distributions.Normal('x'+str(i), mu= 0.5, tau=1)\n",
      "    \n",
      "    # univariate potentials\n",
      "    def psi_i_logp (anova, i): \n",
      "        return anova[(i,)]\n",
      "    psi_i = np.empty(4, dtype=object)\n",
      "    \n",
      "    # bivariate potentials\n",
      "    def psi_ij_logp (anova, i, j):\n",
      "        return anova[tuple(sorted([i,j]))]\n",
      "    psi_ij = np.empty(4, dtype=object)\n",
      "    \n",
      "    \n",
      "    # anova components as deterministic variable\n",
      "    def compute_ANOVA_components(x, alpha, grid):\n",
      "        \"\"\"Evaluates the sparse grid at the point x and returns \n",
      "           the individual ANOVA components of the result\"\"\"\n",
      "        x = np.hstack(x).reshape(1, -1)\n",
      "        dataPoint = pysgpp.DataMatrix(x)\n",
      "        result = pysgpp.DataVector(grid.getSize())\n",
      "        result.setAll(0.0)\n",
      "        a = pysgpp.DataVector(1)\n",
      "        a[0] = 1.0\n",
      "        opMultipleEval = pysgpp.createOperationMultipleEval(grid, dataPoint)\n",
      "        opMultipleEval.multTranspose(a, result)\n",
      "        result = result.array()*alpha.array()\n",
      "        \n",
      "        anovaComponents = {(-1,):0}\n",
      "        for i in xrange(4):\n",
      "            anovaComponents[(i,)] = 0\n",
      "            anovaComponents[tuple(sorted((i, (i+1)%4)))] = 0\n",
      "       \n",
      "        storage = grid.getStorage()\n",
      "        for i in xrange(grid.getSize()):\n",
      "            grid_index = storage.get(i)\n",
      "            key = []\n",
      "            for d in xrange(dim):\n",
      "                levelDimension = grid_index.getLevel(d)\n",
      "                if levelDimension != 1:\n",
      "                    key.append(d)\n",
      "            if key == []: anovaComponents[(-1,)] += result[i]\n",
      "            else:\n",
      "                key = tuple(key)\n",
      "                if key in anovaComponents:\n",
      "                    anovaComponents[key] += result[i]\n",
      "        return anovaComponents # it is fine to return dictionary\n",
      "            \n",
      "            \n",
      "    anova = pm.Deterministic(eval = lambda x: compute_ANOVA_components(x, alpha, grid),\n",
      "                  name = 'anova',\n",
      "                  parents = {'x': x},\n",
      "                  doc = 'Individual anova component contributions',\n",
      "                  trace = True,\n",
      "                  verbose = 0,\n",
      "                  plot=False,\n",
      "                  cache_depth = 2)\n",
      "    \n",
      "    # constant factor ot the ANOVA component\n",
      "    psi_0 = pm.Potential(logp = lambda anova: anova[(-1,)],\n",
      "                            name = 'psi_0',\n",
      "                            parents = {'anova': anova},\n",
      "                            doc = 'Potential corresponding to the constant factor',\n",
      "                            verbose = 0,\n",
      "                            cache_depth = 1)\n",
      "    \n",
      "    \n",
      "    for i in xrange(4):  \n",
      "        psi_i[i] = pm.Potential(logp = lambda anova, i=i: psi_i_logp(anova, i),\n",
      "                            name = 'psi_i'+str(i),\n",
      "                            parents = {'anova': anova},\n",
      "                            doc = 'A univariate potential',\n",
      "                            verbose = 0,\n",
      "                            cache_depth = 1)\n",
      "    \n",
      "    \n",
      "    for i in xrange(4):  \n",
      "        j = (i+1)%2 # this is just how I connect the variables in my graphical model. It's not generic\n",
      "        psi_ij[i] = pm.Potential(logp = lambda anova, i=i, j=j: psi_ij_logp(anova, i, j),\n",
      "                            name = 'psi_ij%d%d'%(i,j),\n",
      "                            parents = {'anova': anova},\n",
      "                            doc = 'A bivariate potential',\n",
      "                            verbose = 0,\n",
      "                            cache_depth = 2)\n",
      "    \n",
      "    # for some reason pm.Model cannot be created is the arrays are not converted to\n",
      "    # ArrayContainers before (dict. name becomes an integer and Python complains)\n",
      "    x = pm.ArrayContainer(x)\n",
      "    psi_i = pm.ArrayContainer(psi_i)\n",
      "    psi_ij = pm.ArrayContainer(psi_ij)\n",
      "    return locals()"
     ],
     "language": "python",
     "metadata": {},
     "outputs": [],
     "prompt_number": 29
    },
    {
     "cell_type": "code",
     "collapsed": false,
     "input": [
      "model = pm.Model(input=make_model(), name=\"sg_normal_indep\")"
     ],
     "language": "python",
     "metadata": {},
     "outputs": [],
     "prompt_number": 30
    },
    {
     "cell_type": "code",
     "collapsed": false,
     "input": [
      "mcmc = pm.MCMC(model, name=\"MCMC\")\n",
      "mcmc.sample(iter=10000, burn=100, thin=5)"
     ],
     "language": "python",
     "metadata": {},
     "outputs": [
      {
       "output_type": "stream",
       "stream": "stdout",
       "text": [
        "\r",
        " [                  1%                  ] 186 of 10000 complete in 0.5 sec"
       ]
      },
      {
       "output_type": "stream",
       "stream": "stdout",
       "text": [
        "\r",
        " [-                 3%                  ] 365 of 10000 complete in 1.0 sec"
       ]
      },
      {
       "output_type": "stream",
       "stream": "stdout",
       "text": [
        "\r",
        " [--                5%                  ] 567 of 10000 complete in 1.5 sec"
       ]
      },
      {
       "output_type": "stream",
       "stream": "stdout",
       "text": [
        "\r",
        " [--                7%                  ] 759 of 10000 complete in 2.0 sec"
       ]
      },
      {
       "output_type": "stream",
       "stream": "stdout",
       "text": [
        "\r",
        " [---               9%                  ] 912 of 10000 complete in 2.5 sec"
       ]
      },
      {
       "output_type": "stream",
       "stream": "stdout",
       "text": [
        "\r",
        " [----             10%                  ] 1084 of 10000 complete in 3.0 sec"
       ]
      },
      {
       "output_type": "stream",
       "stream": "stdout",
       "text": [
        "\r",
        " [----             12%                  ] 1249 of 10000 complete in 3.5 sec"
       ]
      },
      {
       "output_type": "stream",
       "stream": "stdout",
       "text": [
        "\r",
        " [-----            14%                  ] 1416 of 10000 complete in 4.0 sec"
       ]
      },
      {
       "output_type": "stream",
       "stream": "stdout",
       "text": [
        "\r",
        " [-----            15%                  ] 1560 of 10000 complete in 4.5 sec"
       ]
      },
      {
       "output_type": "stream",
       "stream": "stdout",
       "text": [
        "\r",
        " [------           17%                  ] 1725 of 10000 complete in 5.0 sec"
       ]
      },
      {
       "output_type": "stream",
       "stream": "stdout",
       "text": [
        "\r",
        " [-------          18%                  ] 1895 of 10000 complete in 5.5 sec"
       ]
      },
      {
       "output_type": "stream",
       "stream": "stdout",
       "text": [
        "\r",
        " [-------          20%                  ] 2067 of 10000 complete in 6.0 sec"
       ]
      },
      {
       "output_type": "stream",
       "stream": "stdout",
       "text": [
        "\r",
        " [--------         22%                  ] 2224 of 10000 complete in 6.5 sec"
       ]
      },
      {
       "output_type": "stream",
       "stream": "stdout",
       "text": [
        "\r",
        " [---------        23%                  ] 2386 of 10000 complete in 7.0 sec"
       ]
      },
      {
       "output_type": "stream",
       "stream": "stdout",
       "text": [
        "\r",
        " [---------        25%                  ] 2545 of 10000 complete in 7.5 sec"
       ]
      },
      {
       "output_type": "stream",
       "stream": "stdout",
       "text": [
        "\r",
        " [----------       27%                  ] 2703 of 10000 complete in 8.0 sec"
       ]
      },
      {
       "output_type": "stream",
       "stream": "stdout",
       "text": [
        "\r",
        " [----------       28%                  ] 2866 of 10000 complete in 8.5 sec"
       ]
      },
      {
       "output_type": "stream",
       "stream": "stdout",
       "text": [
        "\r",
        " [-----------      30%                  ] 3032 of 10000 complete in 9.0 sec"
       ]
      },
      {
       "output_type": "stream",
       "stream": "stdout",
       "text": [
        "\r",
        " [------------     32%                  ] 3207 of 10000 complete in 9.5 sec"
       ]
      },
      {
       "output_type": "stream",
       "stream": "stdout",
       "text": [
        "\r",
        " [------------     33%                  ] 3379 of 10000 complete in 10.0 sec"
       ]
      },
      {
       "output_type": "stream",
       "stream": "stdout",
       "text": [
        "\r",
        " [-------------    35%                  ] 3530 of 10000 complete in 10.5 sec"
       ]
      },
      {
       "output_type": "stream",
       "stream": "stdout",
       "text": [
        "\r",
        " [--------------   36%                  ] 3695 of 10000 complete in 11.0 sec"
       ]
      },
      {
       "output_type": "stream",
       "stream": "stdout",
       "text": [
        "\r",
        " [--------------   38%                  ] 3851 of 10000 complete in 11.5 sec"
       ]
      },
      {
       "output_type": "stream",
       "stream": "stdout",
       "text": [
        "\r",
        " [---------------  40%                  ] 4017 of 10000 complete in 12.0 sec"
       ]
      },
      {
       "output_type": "stream",
       "stream": "stdout",
       "text": [
        "\r",
        " [---------------  41%                  ] 4178 of 10000 complete in 12.6 sec"
       ]
      },
      {
       "output_type": "stream",
       "stream": "stdout",
       "text": [
        "\r",
        " [---------------- 43%                  ] 4331 of 10000 complete in 13.1 sec"
       ]
      },
      {
       "output_type": "stream",
       "stream": "stdout",
       "text": [
        "\r",
        " [-----------------44%                  ] 4486 of 10000 complete in 13.6 sec"
       ]
      },
      {
       "output_type": "stream",
       "stream": "stdout",
       "text": [
        "\r",
        " [-----------------46%                  ] 4642 of 10000 complete in 14.1 sec"
       ]
      },
      {
       "output_type": "stream",
       "stream": "stdout",
       "text": [
        "\r",
        " [-----------------48%                  ] 4809 of 10000 complete in 14.6 sec"
       ]
      },
      {
       "output_type": "stream",
       "stream": "stdout",
       "text": [
        "\r",
        " [-----------------49%                  ] 4964 of 10000 complete in 15.1 sec"
       ]
      },
      {
       "output_type": "stream",
       "stream": "stdout",
       "text": [
        "\r",
        " [-----------------51%                  ] 5112 of 10000 complete in 15.6 sec"
       ]
      },
      {
       "output_type": "stream",
       "stream": "stdout",
       "text": [
        "\r",
        " [-----------------52%                  ] 5279 of 10000 complete in 16.1 sec"
       ]
      },
      {
       "output_type": "stream",
       "stream": "stdout",
       "text": [
        "\r",
        " [-----------------54%                  ] 5442 of 10000 complete in 16.6 sec"
       ]
      },
      {
       "output_type": "stream",
       "stream": "stdout",
       "text": [
        "\r",
        " [-----------------55%-                 ] 5594 of 10000 complete in 17.1 sec"
       ]
      },
      {
       "output_type": "stream",
       "stream": "stdout",
       "text": [
        "\r",
        " [-----------------57%-                 ] 5750 of 10000 complete in 17.6 sec"
       ]
      },
      {
       "output_type": "stream",
       "stream": "stdout",
       "text": [
        "\r",
        " [-----------------58%--                ] 5897 of 10000 complete in 18.1 sec"
       ]
      },
      {
       "output_type": "stream",
       "stream": "stdout",
       "text": [
        "\r",
        " [-----------------60%---               ] 6057 of 10000 complete in 18.6 sec"
       ]
      },
      {
       "output_type": "stream",
       "stream": "stdout",
       "text": [
        "\r",
        " [-----------------62%---               ] 6210 of 10000 complete in 19.1 sec"
       ]
      },
      {
       "output_type": "stream",
       "stream": "stdout",
       "text": [
        "\r",
        " [-----------------63%----              ] 6369 of 10000 complete in 19.6 sec"
       ]
      },
      {
       "output_type": "stream",
       "stream": "stdout",
       "text": [
        "\r",
        " [-----------------65%----              ] 6528 of 10000 complete in 20.1 sec"
       ]
      },
      {
       "output_type": "stream",
       "stream": "stdout",
       "text": [
        "\r",
        " [-----------------66%-----             ] 6689 of 10000 complete in 20.6 sec"
       ]
      },
      {
       "output_type": "stream",
       "stream": "stdout",
       "text": [
        "\r",
        " [-----------------68%------            ] 6859 of 10000 complete in 21.1 sec"
       ]
      },
      {
       "output_type": "stream",
       "stream": "stdout",
       "text": [
        "\r",
        " [-----------------70%------            ] 7004 of 10000 complete in 21.6 sec"
       ]
      },
      {
       "output_type": "stream",
       "stream": "stdout",
       "text": [
        "\r",
        " [-----------------71%-------           ] 7168 of 10000 complete in 22.1 sec"
       ]
      },
      {
       "output_type": "stream",
       "stream": "stdout",
       "text": [
        "\r",
        " [-----------------73%-------           ] 7341 of 10000 complete in 22.6 sec"
       ]
      },
      {
       "output_type": "stream",
       "stream": "stdout",
       "text": [
        "\r",
        " [-----------------74%--------          ] 7499 of 10000 complete in 23.1 sec"
       ]
      },
      {
       "output_type": "stream",
       "stream": "stdout",
       "text": [
        "\r",
        " [-----------------76%---------         ] 7653 of 10000 complete in 23.6 sec"
       ]
      },
      {
       "output_type": "stream",
       "stream": "stdout",
       "text": [
        "\r",
        " [-----------------78%---------         ] 7810 of 10000 complete in 24.1 sec"
       ]
      },
      {
       "output_type": "stream",
       "stream": "stdout",
       "text": [
        "\r",
        " [-----------------79%----------        ] 7967 of 10000 complete in 24.6 sec"
       ]
      },
      {
       "output_type": "stream",
       "stream": "stdout",
       "text": [
        "\r",
        " [-----------------81%----------        ] 8132 of 10000 complete in 25.1 sec"
       ]
      },
      {
       "output_type": "stream",
       "stream": "stdout",
       "text": [
        "\r",
        " [-----------------82%-----------       ] 8288 of 10000 complete in 25.6 sec"
       ]
      },
      {
       "output_type": "stream",
       "stream": "stdout",
       "text": [
        "\r",
        " [-----------------84%------------      ] 8450 of 10000 complete in 26.1 sec"
       ]
      },
      {
       "output_type": "stream",
       "stream": "stdout",
       "text": [
        "\r",
        " [-----------------86%------------      ] 8616 of 10000 complete in 26.6 sec"
       ]
      },
      {
       "output_type": "stream",
       "stream": "stdout",
       "text": [
        "\r",
        " [-----------------87%-------------     ] 8770 of 10000 complete in 27.1 sec"
       ]
      },
      {
       "output_type": "stream",
       "stream": "stdout",
       "text": [
        "\r",
        " [-----------------89%-------------     ] 8914 of 10000 complete in 27.6 sec"
       ]
      },
      {
       "output_type": "stream",
       "stream": "stdout",
       "text": [
        "\r",
        " [-----------------90%--------------    ] 9071 of 10000 complete in 28.1 sec"
       ]
      },
      {
       "output_type": "stream",
       "stream": "stdout",
       "text": [
        "\r",
        " [-----------------92%---------------   ] 9230 of 10000 complete in 28.6 sec"
       ]
      },
      {
       "output_type": "stream",
       "stream": "stdout",
       "text": [
        "\r",
        " [-----------------93%---------------   ] 9381 of 10000 complete in 29.1 sec"
       ]
      },
      {
       "output_type": "stream",
       "stream": "stdout",
       "text": [
        "\r",
        " [-----------------95%----------------  ] 9542 of 10000 complete in 29.6 sec"
       ]
      },
      {
       "output_type": "stream",
       "stream": "stdout",
       "text": [
        "\r",
        " [-----------------96%----------------  ] 9693 of 10000 complete in 30.1 sec"
       ]
      },
      {
       "output_type": "stream",
       "stream": "stdout",
       "text": [
        "\r",
        " [-----------------98%----------------- ] 9849 of 10000 complete in 30.6 sec"
       ]
      },
      {
       "output_type": "stream",
       "stream": "stdout",
       "text": [
        "\r",
        " [-----------------99%----------------- ] 9991 of 10000 complete in 31.1 sec"
       ]
      },
      {
       "output_type": "stream",
       "stream": "stdout",
       "text": [
        "\r",
        " [-----------------100%-----------------] 10000 of 10000 complete in 31.1 sec"
       ]
      }
     ],
     "prompt_number": 31
    },
    {
     "cell_type": "code",
     "collapsed": false,
     "input": [
      "dot = pm.graph.moral_graph(model)\n",
      "dot.write_png(\"graph2.png\")"
     ],
     "language": "python",
     "metadata": {},
     "outputs": [
      {
       "metadata": {},
       "output_type": "pyout",
       "prompt_number": 32,
       "text": [
        "True"
       ]
      }
     ],
     "prompt_number": 32
    },
    {
     "cell_type": "code",
     "collapsed": false,
     "input": [
      "data = np.vstack([model.x[i].trace() for i in xrange(dim)]).T\n",
      "X = pysgpp.DataMatrix(data)"
     ],
     "language": "python",
     "metadata": {},
     "outputs": [],
     "prompt_number": 33
    },
    {
     "cell_type": "code",
     "collapsed": false,
     "input": [
      "sgde = SG_DensityEstimator(X, 4, 0.001,\n",
      "                               'identity', alpha_threshold=0.01,\n",
      "                               sampling_size_init=10,\n",
      "                               sampling_size_first=10000, sampling_size_last=100,\n",
      "                               epsilon=1e-2)"
     ],
     "language": "python",
     "metadata": {},
     "outputs": [
      {
       "output_type": "stream",
       "stream": "stdout",
       "text": [
        "{1: [(0,), (1,), (2,), (3,)], 2: [(0, 1), (0, 2), (0, 3), (1, 2), (1, 3), (2, 3)]}\n",
        "\r"
       ]
      },
      {
       "output_type": "stream",
       "stream": "stdout",
       "text": [
        " [-----------------100%-----------------] 10 of 10 complete in 0.0 sec"
       ]
      }
     ],
     "prompt_number": 52
    },
    {
     "cell_type": "code",
     "collapsed": false,
     "input": [
      "grid, alpha = sgde.run()"
     ],
     "language": "python",
     "metadata": {},
     "outputs": [
      {
       "output_type": "stream",
       "stream": "stdout",
       "text": [
        "\n",
        "E_empir [  1.00000000e+00   1.63992108e+00   3.45353542e-01   1.62832700e+00\n",
        "   0.00000000e+00   0.00000000e+00   3.42222236e-01   1.60513885e+00\n",
        "   0.00000000e+00   0.00000000e+00   0.00000000e+00   0.00000000e+00\n",
        "   0.00000000e+00   0.00000000e+00   3.35959624e-01   1.68827239e-01\n",
        "   1.81611780e+00   1.67957509e-01   0.00000000e+00   0.00000000e+00\n",
        "   1.80193258e+00   1.66218048e-01   0.00000000e+00   0.00000000e+00\n",
        "   0.00000000e+00   0.00000000e+00   0.00000000e+00   0.00000000e+00\n",
        "   1.77356212e+00   3.45684937e-02   3.22211270e+00   3.43904107e-02\n",
        "   0.00000000e+00   0.00000000e+00   3.19912984e+00   2.99111023e-01\n",
        "   3.84878856e-01   2.97570122e-01   0.00000000e+00   0.00000000e+00\n",
        "   3.79702551e-01   3.29597219e-02   3.20070237e+00   0.00000000e+00\n",
        "   0.00000000e+00   0.00000000e+00   0.00000000e+00   2.96744833e-01\n",
        "   3.81045150e-01   1.80078663e+00   1.67770674e-01   1.77430054e+00\n",
        "   0.00000000e+00   0.00000000e+00   1.62814076e-01   1.72132835e+00\n",
        "   0.00000000e+00   0.00000000e+00   0.00000000e+00   0.00000000e+00\n",
        "   0.00000000e+00   0.00000000e+00   1.52900879e-01   3.19749991e+00\n",
        "   3.41775078e-02   3.14990424e+00   0.00000000e+00   0.00000000e+00\n",
        "   3.36084388e-02   3.79029583e-01   2.97421643e-01   3.74017043e-01\n",
        "   0.00000000e+00   0.00000000e+00   2.88178324e-01   3.17624000e+00\n",
        "   3.25881357e-02   0.00000000e+00   0.00000000e+00   0.00000000e+00\n",
        "   0.00000000e+00   3.75245716e-01   2.95068817e-01   0.00000000e+00\n",
        "   3.27857153e-01   0.00000000e+00   0.00000000e+00   0.00000000e+00\n",
        "   3.18059827e-01   3.57366976e+00   5.92326058e-03   3.52109179e+00\n",
        "   0.00000000e+00   0.00000000e+00   5.85864618e-03   0.00000000e+00\n",
        "   3.26168164e-01   0.00000000e+00   0.00000000e+00   0.00000000e+00\n",
        "   0.00000000e+00   3.54576626e+00   5.85131433e-03   0.00000000e+00\n",
        "   6.80046826e-02   6.34968720e+00   0.00000000e+00   0.00000000e+00\n",
        "   5.79959262e-01   7.47980587e-01   1.17535419e-02   1.88363209e+00\n",
        "   8.93577916e-02   1.85817326e+00   0.00000000e+00   0.00000000e+00\n",
        "   8.78064923e-02   1.80725561e+00   0.00000000e+00   0.00000000e+00\n",
        "   0.00000000e+00   0.00000000e+00   0.00000000e+00   0.00000000e+00\n",
        "   8.47038937e-02   3.20333003e+00   3.42292466e-02   3.16156448e+00\n",
        "   0.00000000e+00   0.00000000e+00   3.37119165e-02   5.37588653e-01\n",
        "   1.41771563e-01   5.28783145e-01   0.00000000e+00   0.00000000e+00\n",
        "   1.39230202e-01   3.18202020e+00   3.26359909e-02   0.00000000e+00\n",
        "   0.00000000e+00   0.00000000e+00   0.00000000e+00   5.32552985e-01\n",
        "   1.40650044e-01   1.53714199e-01   1.77799631e-01   1.50660248e-01\n",
        "   0.00000000e+00   0.00000000e+00   1.74712933e-01   3.58477125e+00\n",
        "   0.00000000e+00   3.53730690e+00   0.00000000e+00   0.00000000e+00\n",
        "   0.00000000e+00   1.52922325e-01   1.76883678e-01   0.00000000e+00\n",
        "   0.00000000e+00   0.00000000e+00   0.00000000e+00   3.55678441e+00\n",
        "   0.00000000e+00   0.00000000e+00   6.81076300e-02   6.36130408e+00\n",
        "   0.00000000e+00   3.05015500e-01   2.82089911e-01   7.58389374e-01\n",
        "   0.00000000e+00   3.55451386e+00   0.00000000e+00   3.50745446e+00\n",
        "   0.00000000e+00   0.00000000e+00   0.00000000e+00   1.58262966e-01\n",
        "   1.71159626e-01   1.55134320e-01   0.00000000e+00   0.00000000e+00\n",
        "   1.68169516e-01   3.50222645e+00   0.00000000e+00   0.00000000e+00\n",
        "   0.00000000e+00   0.00000000e+00   0.00000000e+00   1.56063030e-01\n",
        "   1.63603670e-01   6.31270498e+00   0.00000000e+00   0.00000000e+00\n",
        "   6.73367179e-02   7.46869622e-01   0.00000000e+00   3.14041629e-01\n",
        "   2.69716960e-01   0.00000000e+00   0.00000000e+00   3.03178977e-01\n",
        "   3.40564799e-01   7.05397541e+00   0.00000000e+00   1.16436688e-02\n",
        "   0.00000000e+00]\n",
        "\n",
        "Initial E_model"
       ]
      },
      {
       "output_type": "stream",
       "stream": "stdout",
       "text": [
        " [ 1.  2.  0.  2.  0.  0.  0.  2.  0.  0.  0.  0.  0.  0.  0.  2.  0.  2.\n",
        "  0.  0.  0.  2.  0.  0.  0.  0.  0.  0.  0.  4.  0.  4.  0.  0.  0.  0.\n",
        "  0.  0.  0.  0.  0.  4.  0.  0.  0.  0.  0.  0.  0.  2.  0.  2.  0.  0.\n",
        "  0.  2.  0.  0.  0.  0.  0.  0.  0.  4.  0.  4.  0.  0.  0.  0.  0.  0.\n",
        "  0.  0.  0.  4.  0.  0.  0.  0.  0.  0.  0.  4.  0.  4.  0.  0.  0.  0.\n",
        "  0.  0.  0.  0.  0.  4.  0.  0.  0.  0.  0.  0.  0.  8.  0.  0.  0.  0.\n",
        "  0.  0.  0.  2.  0.  2.  0.  0.  0.  2.  0.  0.  0.  0.  0.  0.  0.  4.\n",
        "  0.  4.  0.  0.  0.  0.  0.  0.  0.  0.  0.  4.  0.  0.  0.  0.  0.  0.\n",
        "  0.  4.  0.  4.  0.  0.  0.  0.  0.  0.  0.  0.  0.  4.  0.  0.  0.  0.\n",
        "  0.  0.  0.  8.  0.  0.  0.  0.  0.  0.  0.  4.  0.  4.  0.  0.  0.  0.\n",
        "  0.  0.  0.  0.  0.  4.  0.  0.  0.  0.  0.  0.  0.  8.  0.  0.  0.  0.\n",
        "  0.  0.  0.  8.  0.  0.  0.  0.  0.  0.  0.]\n",
        "\n",
        "CG Info:  0\n",
        "Number of armijo step:2, learning rate:0.000000"
       ]
      },
      {
       "output_type": "stream",
       "stream": "stdout",
       "text": [
        "\n"
       ]
      },
      {
       "output_type": "stream",
       "stream": "stdout",
       "text": [
        "\n",
        "E_model: [ 1.          0.5110229   0.47277419  0.25991928  0.13392467  0.12795085\n",
        "  0.23265272  0.13152067  0.06086638  0.06628988  0.06314689  0.06882661\n",
        "  0.05860457  0.05649737  0.11887503  0.5758892   0.47491599  0.33078574\n",
        "  0.10741888  0.11289459  0.24335977  0.17591421  0.0540084   0.05890461\n",
        "  0.053725    0.07119236  0.04566831  0.05879244  0.12129368  0.28740087\n",
        "  0.24928928  0.16335058  0.05537943  0.05789393  0.13610458  0.28796379\n",
        "  0.20999674  0.17129469  0.05384709  0.05215652  0.10313223  0.14414246\n",
        "  0.12666057  0.07280446  0.06680923  0.07430442  0.06136437  0.14833224\n",
        "  0.09729628  0.53639294  0.47267488  0.27657138  0.13016473  0.12534371\n",
        "  0.23209547  0.1473844   0.06267     0.06846432  0.06199325  0.05675727\n",
        "  0.05991337  0.06067686  0.11603713  0.28754466  0.23215289  0.15553741\n",
        "  0.06551337  0.06509916  0.11261319  0.24008938  0.23852565  0.12223984\n",
        "  0.06086441  0.05844362  0.12378776  0.1474927   0.11963046  0.0701471\n",
        "  0.06195517  0.06794259  0.06055624  0.11998275  0.11950397  0.30273914\n",
        "  0.27946805  0.16100536  0.06418327  0.07399999  0.1268125   0.26877037\n",
        "  0.21740036  0.13887802  0.06488411  0.05854585  0.11430079  0.16904145\n",
        "  0.16430768  0.05896358  0.04958952  0.06099865  0.04848281  0.13822383\n",
        "  0.10809926  0.17486259  0.12271559  0.13979588  0.11168199  0.13904978\n",
        "  0.15231053  0.11691011  0.09972294  0.48873504  0.48833952  0.2446072\n",
        "  0.1300362   0.13224429  0.23864387  0.12696372  0.05321572  0.06967018\n",
        "  0.06847364  0.07045113  0.0666476   0.05920427  0.1227397   0.25174011\n",
        "  0.23248052  0.12143466  0.07227479  0.07095314  0.10710291  0.22027988\n",
        "  0.24832215  0.11438787  0.05369712  0.06378939  0.1245744   0.12408343\n",
        "  0.11879457  0.07234039  0.06003151  0.06261763  0.06484719  0.10055656\n",
        "  0.12246586  0.27820426  0.29148349  0.13600742  0.07651398  0.07628791\n",
        "  0.14643918  0.2230036   0.2349539   0.11049095  0.05850593  0.06593826\n",
        "  0.11458692  0.15246549  0.17453699  0.054009    0.05171922  0.05369038\n",
        "  0.0571124   0.11598179  0.12049979  0.13735466  0.13313447  0.11513384\n",
        "  0.11048974  0.1290363   0.15972419  0.09401017  0.11678783  0.27021023\n",
        "  0.25574444  0.13586067  0.06830322  0.06657191  0.13601148  0.2245658\n",
        "  0.22569981  0.11121607  0.06162757  0.07011168  0.09962892  0.14081725\n",
        "  0.12764184  0.06730618  0.06547636  0.05437002  0.06419852  0.10826173\n",
        "  0.11085411  0.14805521  0.12132278  0.10275662  0.112499    0.11332681\n",
        "  0.12821848  0.11647726  0.11266944  0.14523977  0.16273464  0.13657713\n",
        "  0.1333636   0.13603526  0.12806625  0.08599756  0.10821761]\n",
        "*****************Norm of Likelihood Gradient***************   19.4350791357\n",
        "+++++++++++++++++iteration_step+++++++++++++++++++++    1\n",
        "Alpha Treshold:  0.0197283001852\n",
        "alpha_threshold:  0.0197283001852\n",
        "mean of all alphas:  0.0197283001852\n",
        "alpha_threshold:  0.0197283001852\n",
        "mean of all alphas:  0.0197283001852\n",
        "alpha_threshold:  0.0197283001852\n",
        "mean of all alphas:  0.0197283001852\n",
        "alpha_threshold:  0.0197283001852\n",
        "mean of all alphas:  0.0197283001852\n",
        "alpha_threshold:  0.0197283001852\n",
        "mean of all alphas:  0.0197283001852\n",
        "alpha_threshold:  0.0197283001852\n",
        "mean of all alphas:  0.0197283001852\n",
        "alpha_threshold:  0.0197283001852\n",
        "mean of all alphas:  0.0197283001852\n",
        "alpha_threshold:  0.0197283001852\n",
        "mean of all alphas:  0.0197283001852\n",
        "alpha_threshold:  0.0197283001852\n",
        "mean of all alphas:  0.0197283001852\n",
        "alpha_threshold:  0.0197283001852\n",
        "mean of all alphas:  0.0197283001852\n",
        "alpha_threshold:  0.0197283001852\n",
        "mean of all alphas:  0.0197283001852\n",
        "alpha_threshold:  0.0197283001852\n",
        "mean of all alphas:  0.0197283001852\n",
        "alpha_threshold:  0.0197283001852\n",
        "mean of all alphas:  0.0197283001852\n",
        "alpha_threshold:  0.0197283001852\n",
        "mean of all alphas:  0.0197283001852\n",
        "alpha_threshold:  0.0197283001852\n",
        "mean of all alphas:  0.0197283001852\n",
        "(1, 2)\n",
        "Deleting factors:  (1, 2)\n",
        "{1: [(0,), (1,), (2,), (3,)], 2: [(0, 1), (0, 2), (0, 3), (1, 3), (2, 3)]}\n",
        "(2, 3)\n",
        "Deleting factors:  (2, 3)\n",
        "{1: [(0,), (1,), (2,), (3,)], 2: [(0, 1), (0, 2), (0, 3), (1, 3)]}\n",
        "(0, 3)\n",
        "Deleting factors:  (0, 3)\n",
        "{1: [(0,), (1,), (2,), (3,)], 2: [(0, 1), (0, 2), (1, 3)]}\n",
        "1\n",
        "Cannot delete the following elements since the high order interactions are still present \n",
        "Following element ignored from the delete_list: \n",
        "(2,)\n",
        "Numbe or recoarsenings needed 2\n",
        "Alpha : [  3.80168055e-02  -2.57167907e-02  -2.44395889e-02   2.29293704e-02\n",
        "   1.54023489e-02  -1.51821364e-03  -9.32640933e-03   3.24759480e-02\n",
        "   1.10541318e-02   2.52601471e-02  -8.08026865e-03   3.46752846e-02\n",
        "   3.70581715e-02  -6.01544407e-04  -3.09486350e-02  -3.34215402e-02\n",
        "   3.25345320e-02  -2.18228810e-02  -2.40725494e-02  -2.06952785e-02\n",
        "   2.00377596e-02  -3.12411180e-02   1.72530933e-02  -1.24424553e-02\n",
        "   1.93927291e-02   3.36113189e-02  -1.03928629e-02  -1.16936108e-02\n",
        "   1.17440413e-02  -7.74832283e-03  -3.77413675e-02   1.73497996e-02\n",
        "  -1.83623057e-02   1.82806900e-02   1.19347474e-02  -2.96767559e-03\n",
        "  -2.48266723e-02   3.32513922e-02  -9.81662967e-03  -1.30181083e-02\n",
        "  -3.09239207e-02   2.30279546e-02  -2.12910559e-02   3.79578615e-02\n",
        "   2.73777275e-02   3.17433739e-02   1.77432109e-02  -1.96726110e-02\n",
        "   3.86189010e-02  -2.24383418e-02  -2.74959977e-02  -1.18177915e-02\n",
        "   2.08150114e-02  -3.31880794e-02  -2.48895886e-03   2.24262163e-03\n",
        "  -2.46191502e-02   1.06782685e-02  -3.34113001e-02   4.50857418e-03\n",
        "  -5.64582550e-04  -1.63088227e-02   1.99656036e-02   1.39863022e-02\n",
        "   3.82411232e-02   2.79413295e-02   8.02886694e-03   2.48456816e-02\n",
        "  -2.04244137e-02  -1.12888751e-02   3.53341539e-02  -4.81103896e-06\n",
        "   2.26864902e-02  -3.20687343e-02   8.91492642e-03   2.71858490e-02\n",
        "  -1.35240404e-02  -1.96951807e-02  -2.52324356e-02   3.37600395e-02\n",
        "   3.99469659e-02   3.90492115e-02  -1.59818007e-02  -2.94415616e-02\n",
        "  -3.45899325e-02   3.28173921e-02   2.82662653e-02   2.40829588e-02\n",
        "  -3.15900394e-02  -3.43089404e-02   4.00484013e-03   9.97152904e-03\n",
        "  -4.50406037e-03   1.70002138e-02   7.23579098e-03  -1.28674217e-02\n",
        "   2.61902350e-02   1.12193577e-02  -3.34092022e-02   2.54339243e-02\n",
        "   1.53944866e-02   3.56151000e-02  -1.96342850e-02  -2.99336835e-02\n",
        "  -1.33072611e-02  -7.83199965e-03   3.00475374e-02   1.80308138e-02\n",
        "   2.19919607e-03  -7.96745204e-03   2.69977032e-02  -1.39596872e-02\n",
        "   1.78064183e-02  -1.30987010e-03   1.44145844e-02   3.47266931e-02\n",
        "   3.71886757e-02]\n",
        "\n",
        "CG Info: "
       ]
      },
      {
       "output_type": "stream",
       "stream": "stdout",
       "text": [
        " 0\n",
        "Number of armijo step:2, learning rate:0.001000"
       ]
      },
      {
       "output_type": "stream",
       "stream": "stdout",
       "text": [
        "\n"
       ]
      },
      {
       "output_type": "stream",
       "stream": "stdout",
       "text": [
        "\n",
        "E_model: [ 1.  2.  0.  2.  0.  0.  0.  2.  0.  0.  0.  0.  0.  0.  0.  2.  0.  2.\n",
        "  0.  0.  0.  2.  0.  0.  0.  0.  0.  0.  0.  4.  0.  4.  0.  0.  0.  0.\n",
        "  0.  0.  0.  0.  0.  4.  0.  0.  0.  0.  0.  0.  0.  2.  0.  2.  0.  0.\n",
        "  0.  2.  0.  0.  0.  0.  0.  0.  0.  4.  0.  4.  0.  0.  0.  0.  0.  0.\n",
        "  0.  0.  0.  4.  0.  0.  0.  0.  0.  0.  0.  2.  0.  2.  0.  0.  0.  2.\n",
        "  0.  0.  0.  0.  0.  0.  0.  4.  0.  4.  0.  0.  0.  0.  0.  0.  0.  0.\n",
        "  0.  4.  0.  0.  0.  0.  0.  0.  0.]\n",
        "*****************Norm of Likelihood Gradient***************   13.5834334098\n",
        "+++++++++++++++++iteration_step+++++++++++++++++++++    2\n",
        "Alpha Treshold:  0.0197283001852\n",
        "alpha_threshold:  0.0197283001852\n",
        "mean of all alphas:  0.571819687087\n",
        "alpha_threshold:  0.0197283001852\n",
        "mean of all alphas:  0.571819687087\n",
        "alpha_threshold:  0.0197283001852\n",
        "mean of all alphas:  0.571819687087\n",
        "alpha_threshold:  0.0197283001852\n",
        "mean of all alphas:  0.571819687087\n",
        "alpha_threshold:  0.0197283001852\n",
        "mean of all alphas:  0.571819687087\n",
        "alpha_threshold:  0.0197283001852\n",
        "mean of all alphas:  0.571819687087\n",
        "alpha_threshold:  0.0197283001852\n",
        "mean of all alphas:  0.571819687087\n",
        "alpha_threshold:  0.0197283001852\n",
        "mean of all alphas:  0.571819687087\n",
        "Numbe or recoarsenings needed 2\n",
        "Alpha : [  3.79787887e-02  -3.85769999e-01   3.20938393e-01  -3.48766560e-01\n",
        "   1.53869466e-02  -1.51669543e-03   3.32905153e-01  -3.62417682e-01\n",
        "   1.10430776e-02   2.52348870e-02  -8.07218838e-03   3.46406093e-02\n",
        "   3.70211133e-02  -6.00942862e-04   3.05041938e-01  -1.86456088e+00\n",
        "   1.84861980e+00  -1.85384355e+00  -2.40484768e-02  -2.06745833e-02\n",
        "   1.82195030e+00  -1.86499183e+00   1.72358402e-02  -1.24300128e-02\n",
        "   1.93733364e-02   3.35777076e-02  -1.03824701e-02  -1.16819172e-02\n",
        "   1.78529442e+00  -3.97317208e+00   3.18440908e+00  -3.94827714e+00\n",
        "  -1.83439434e-02   1.82624093e-02   3.21105265e+00   2.96146315e-01\n",
        "   3.60077011e-01   3.30788263e-01  -9.80681304e-03  -1.30050902e-02\n",
        "   3.48809554e-01  -3.94403535e+00   3.17943260e+00   3.79199037e-02\n",
        "   2.73503498e-02   3.17116305e-02   1.77254677e-02   2.77091894e-01\n",
        "   4.19625432e-01  -2.21629271e-01   1.40302173e-01  -2.37505436e-01\n",
        "   2.07941964e-02  -3.31548913e-02   1.60327606e-01  -2.76431272e-01\n",
        "  -2.45945311e-02   1.06675902e-02  -3.33778888e-02   4.50406561e-03\n",
        "  -5.64017968e-04  -1.62925138e-02   1.72846517e-01  -7.88527779e-01\n",
        "   7.23803898e-02  -8.22182375e-01   8.02083808e-03   2.48208359e-02\n",
        "   1.32044496e-02   3.67751997e-01   3.32720463e-01   3.74012237e-01\n",
        "   2.26638037e-02  -3.20366656e-02   2.97084335e-01  -7.96601341e-01\n",
        "   1.90776193e-02  -1.96754855e-02  -2.52072031e-02   3.37262794e-02\n",
        "   3.99070189e-02   4.14255878e-01   2.79102998e-01  -1.45780035e-01\n",
        "   5.48024490e-02  -1.09042163e-01   2.82379990e-02   2.40588759e-02\n",
        "   5.62480429e-02  -2.27019017e-01   4.00083529e-03   9.96155751e-03\n",
        "  -4.49955631e-03   1.69832136e-02   7.22855519e-03  -1.28545543e-02\n",
        "   1.10867938e-01  -3.83507766e+00   1.44423838e-01  -3.82393126e+00\n",
        "   1.53790921e-02   3.55794849e-02   1.55098283e-01   3.55486751e+00\n",
        "  -1.32939539e-02   3.52948274e+00   3.00174898e-02   1.80127830e-02\n",
        "   2.19699688e-03  -3.85503716e+00   2.03854383e-01  -1.39457275e-02\n",
        "   1.77886119e-02  -1.30856023e-03   1.44001698e-02   3.59147638e+00\n",
        "   3.71514870e-02]\n",
        "\n",
        "CG Info:  0\n",
        "Number of armijo step:2, learning rate:0.001000"
       ]
      },
      {
       "output_type": "stream",
       "stream": "stdout",
       "text": [
        "\n"
       ]
      },
      {
       "output_type": "stream",
       "stream": "stdout",
       "text": [
        "\n",
        "E_model: [ 1.  2.  0.  2.  0.  0.  0.  2.  0.  0.  0.  0.  0.  0.  0.  2.  0.  2.\n",
        "  0.  0.  0.  2.  0.  0.  0.  0.  0.  0.  0.  4.  0.  4.  0.  0.  0.  0.\n",
        "  0.  0.  0.  0.  0.  4.  0.  0.  0.  0.  0.  0.  0.  2.  0.  2.  0.  0.\n",
        "  0.  2.  0.  0.  0.  0.  0.  0.  0.  4.  0.  4.  0.  0.  0.  0.  0.  0.\n",
        "  0.  0.  0.  4.  0.  0.  0.  0.  0.  0.  0.  2.  0.  2.  0.  0.  0.  2.\n",
        "  0.  0.  0.  0.  0.  0.  0.  4.  0.  4.  0.  0.  0.  0.  0.  0.  0.  0.\n",
        "  0.  4.  0.  0.  0.  0.  0.  0.  0.]\n",
        "*****************Norm of Likelihood Gradient***************   13.5698499764\n",
        "+++++++++++++++++iteration_step+++++++++++++++++++++    3\n",
        "Alpha Treshold:  0.0197283001852\n",
        "alpha_threshold:  0.0197283001852\n",
        "mean of all alphas:  1.1339347686\n",
        "alpha_threshold:  0.0197283001852\n",
        "mean of all alphas:  1.1339347686\n",
        "alpha_threshold:  0.0197283001852\n",
        "mean of all alphas:  1.1339347686\n",
        "alpha_threshold:  0.0197283001852\n",
        "mean of all alphas:  1.1339347686\n",
        "alpha_threshold:  0.0197283001852\n",
        "mean of all alphas:  1.1339347686\n",
        "alpha_threshold:  0.0197283001852\n",
        "mean of all alphas:  1.1339347686\n",
        "alpha_threshold:  0.0197283001852\n",
        "mean of all alphas:  1.1339347686\n",
        "alpha_threshold:  0.0197283001852\n",
        "mean of all alphas:  1.1339347686\n",
        "Numbe or recoarsenings needed 2\n",
        "Alpha : [  3.79408099e-02  -7.45463154e-01   6.65970997e-01  -7.20090795e-01\n",
        "   1.53715596e-02  -1.51517873e-03   6.74794485e-01  -7.56916419e-01\n",
        "   1.10320346e-02   2.52096521e-02  -8.06411620e-03   3.46059687e-02\n",
        "   3.69840922e-02  -6.00341919e-04   6.40696520e-01  -3.69386908e+00\n",
        "   3.66288898e+00  -3.68403220e+00  -2.40244284e-02  -2.06539087e-02\n",
        "   3.62206092e+00  -3.69690879e+00   1.72186044e-02  -1.24175828e-02\n",
        "   1.93539630e-02   3.35441299e-02  -1.03720876e-02  -1.16702353e-02\n",
        "   3.55707125e+00  -7.93463041e+00   6.40333737e+00  -7.90993845e+00\n",
        "  -1.83255994e-02   1.82441469e-02   6.40697143e+00   5.94961191e-01\n",
        "   7.44595790e-01   6.28027597e-01  -9.79700623e-03  -1.29920851e-02\n",
        "   7.28163296e-01  -7.90713159e+00   6.37695553e+00   3.78819838e-02\n",
        "   2.73229994e-02   3.16799189e-02   1.77077422e-02   5.73559635e-01\n",
        "   8.00250957e-01  -4.20621009e-01   3.07932545e-01  -4.62967392e-01\n",
        "   2.07734022e-02  -3.31217364e-02   3.22981354e-01  -5.54826492e-01\n",
        "  -2.45699366e-02   1.06569226e-02  -3.33445109e-02   4.49956154e-03\n",
        "  -5.63453950e-04  -1.62762213e-02   3.25574550e-01  -1.59023935e+00\n",
        "   1.06485517e-01  -1.67145596e+00   8.01281724e-03   2.47960151e-02\n",
        "   4.67996839e-02   7.46413828e-01   6.29809385e-01   7.47655268e-01\n",
        "   2.26411399e-02  -3.20046289e-02   5.84965575e-01  -1.61956474e+00\n",
        "   5.16466774e-02  -1.96558100e-02  -2.51819959e-02   3.36925531e-02\n",
        "   3.98671119e-02   7.89087338e-01   5.73892712e-01  -2.62002169e-01\n",
        "   1.44105438e-01  -2.50759859e-01   2.82097610e-02   2.40348170e-02\n",
        "   1.43998287e-01  -4.19536383e-01   3.99683445e-03   9.95159595e-03\n",
        "  -4.49505676e-03   1.69662304e-02   7.22132663e-03  -1.28416997e-02\n",
        "   1.95460964e-01  -7.67752839e+00   3.22079044e-01  -7.66944708e+00\n",
        "   1.53637130e-02   3.55439054e-02   3.29656118e-01   7.13608389e+00\n",
        "  -1.32806599e-02   7.06326016e+00   2.99874723e-02   1.79947702e-02\n",
        "   2.19479988e-03  -7.69825980e+00   3.80534207e-01  -1.39317818e-02\n",
        "   1.77708233e-02  -1.30725167e-03   1.43857697e-02   7.14466931e+00\n",
        "   3.71143355e-02]\n",
        "\n",
        "CG Info:  0\n",
        "Number of armijo step:2, learning rate:0.001000"
       ]
      },
      {
       "output_type": "stream",
       "stream": "stdout",
       "text": [
        "\n"
       ]
      },
      {
       "output_type": "stream",
       "stream": "stdout",
       "text": [
        "\n",
        "E_model: [ 1.  2.  0.  2.  0.  0.  0.  2.  0.  0.  0.  0.  0.  0.  0.  2.  0.  2.\n",
        "  0.  0.  0.  2.  0.  0.  0.  0.  0.  0.  0.  4.  0.  4.  0.  0.  0.  0.\n",
        "  0.  0.  0.  0.  0.  4.  0.  0.  0.  0.  0.  0.  0.  2.  0.  2.  0.  0.\n",
        "  0.  2.  0.  0.  0.  0.  0.  0.  0.  4.  0.  4.  0.  0.  0.  0.  0.  0.\n",
        "  0.  0.  0.  4.  0.  0.  0.  0.  0.  0.  0.  2.  0.  2.  0.  0.  0.  2.\n",
        "  0.  0.  0.  0.  0.  0.  0.  4.  0.  4.  0.  0.  0.  0.  0.  0.  0.  0.\n",
        "  0.  4.  0.  0.  0.  0.  0.  0.  0.]\n",
        "*****************Norm of Likelihood Gradient***************   13.5562801264\n",
        "+++++++++++++++++iteration_step+++++++++++++++++++++    4\n",
        "Alpha Treshold:  0.0197283001852\n",
        "alpha_threshold:  0.0197283001852\n",
        "mean of all alphas:  1.69548773502\n",
        "alpha_threshold:  0.0197283001852\n",
        "mean of all alphas:  1.69548773502\n",
        "alpha_threshold:  0.0197283001852\n",
        "mean of all alphas:  1.69548773502\n",
        "alpha_threshold:  0.0197283001852\n",
        "mean of all alphas:  1.69548773502\n",
        "alpha_threshold:  0.0197283001852\n",
        "mean of all alphas:  1.69548773502\n",
        "alpha_threshold:  0.0197283001852\n",
        "mean of all alphas:  1.69548773502\n",
        "alpha_threshold:  0.0197283001852\n",
        "mean of all alphas:  1.69548773502\n",
        "alpha_threshold:  0.0197283001852\n",
        "mean of all alphas:  1.69548773502\n",
        "Numbe or recoarsenings needed 2\n",
        "Alpha : [  3.79028691e-02  -1.10479662e+00   1.01065857e+00  -1.09104371e+00\n",
        "   1.53561880e-02  -1.51366355e-03   1.01634193e+00  -1.15102066e+00\n",
        "   1.10210025e-02   2.51844424e-02  -8.05605208e-03   3.45713627e-02\n",
        "   3.69471081e-02  -5.99741577e-04   9.76015448e-01  -5.52134797e+00\n",
        "   5.47534390e+00  -5.51239066e+00  -2.40004039e-02  -2.06332548e-02\n",
        "   5.42037144e+00  -5.52699383e+00   1.72013858e-02  -1.24051652e-02\n",
        "   1.93346091e-02   3.35105858e-02  -1.03617155e-02  -1.16585650e-02\n",
        "   5.32707630e+00  -1.18921273e+01   9.61904674e+00  -1.18676381e+01\n",
        "  -1.83072738e-02   1.82259028e-02   9.59969430e+00   8.93477253e-01\n",
        "   1.12873005e+00   9.24969692e-01  -9.78720922e-03  -1.29790930e-02\n",
        "   1.10713768e+00  -1.18662647e+01   9.57128094e+00   3.78441018e-02\n",
        "   2.72956764e-02   3.16482390e-02   1.76900345e-02   8.69730908e-01\n",
        "   1.18049586e+00  -6.19413755e-01   4.75395287e-01  -6.88203887e-01\n",
        "   2.07526288e-02  -3.30886147e-02   4.85472449e-01  -8.32943317e-01\n",
        "  -2.45453666e-02   1.06462657e-02  -3.33111664e-02   4.49506198e-03\n",
        "  -5.62890496e-04  -1.62599451e-02   4.78149854e-01  -2.39114920e+00\n",
        "   1.40556540e-01  -2.51988026e+00   8.00480442e-03   2.47712190e-02\n",
        "   8.03613230e-02   1.12469700e+00   9.26601218e-01   1.12092466e+00\n",
        "   2.26184988e-02  -3.19726243e-02   8.72558933e-01  -2.44170518e+00\n",
        "   8.41831664e-02  -1.96361542e-02  -2.51568139e-02   3.36588606e-02\n",
        "   3.98272448e-02   1.16354397e+00   8.68387636e-01  -3.78108081e-01\n",
        "   2.33319124e-01  -3.92335837e-01   2.81815512e-02   2.40107822e-02\n",
        "   2.31660781e-01  -6.11861231e-01   3.99283762e-03   9.94164435e-03\n",
        "  -4.49056170e-03   1.69492641e-02   7.21410531e-03  -1.28288580e-02\n",
        "   2.79969397e-01  -1.15161367e+01   4.99556596e-01  -1.15111174e+01\n",
        "   1.53483493e-02   3.55083615e-02   5.04039395e-01   1.07137191e+01\n",
        "  -1.32673792e-02   1.05935038e+01   2.99574849e-02   1.79767755e-02\n",
        "   2.19260508e-03  -1.15376392e+01   5.57037350e-01  -1.39178500e-02\n",
        "   1.77530524e-02  -1.30594442e-03   1.43713839e-02   1.06943091e+01\n",
        "   3.70772212e-02]\n",
        "\n",
        "CG Info:  0\n",
        "Number of armijo step:2, learning rate:0.001000"
       ]
      },
      {
       "output_type": "stream",
       "stream": "stdout",
       "text": [
        "\n"
       ]
      },
      {
       "output_type": "stream",
       "stream": "stdout",
       "text": [
        "\n",
        "E_model: [ 1.  2.  0.  2.  0.  0.  0.  2.  0.  0.  0.  0.  0.  0.  0.  2.  0.  2.\n",
        "  0.  0.  0.  2.  0.  0.  0.  0.  0.  0.  0.  4.  0.  4.  0.  0.  0.  0.\n",
        "  0.  0.  0.  0.  0.  4.  0.  0.  0.  0.  0.  0.  0.  2.  0.  2.  0.  0.\n",
        "  0.  2.  0.  0.  0.  0.  0.  0.  0.  4.  0.  4.  0.  0.  0.  0.  0.  0.\n",
        "  0.  0.  0.  4.  0.  0.  0.  0.  0.  0.  0.  2.  0.  2.  0.  0.  0.  2.\n",
        "  0.  0.  0.  0.  0.  0.  0.  4.  0.  4.  0.  0.  0.  0.  0.  0.  0.  0.\n",
        "  0.  4.  0.  0.  0.  0.  0.  0.  0.]\n",
        "*****************Norm of Likelihood Gradient***************   13.5427238463\n",
        "+++++++++++++++++iteration_step+++++++++++++++++++++    5\n",
        "Alpha Treshold:  0.0197283001852\n",
        "alpha_threshold:  0.0197283001852\n",
        "mean of all alphas:  2.25647914848\n",
        "alpha_threshold:  0.0197283001852\n",
        "mean of all alphas:  2.25647914848\n",
        "alpha_threshold:  0.0197283001852\n",
        "mean of all alphas:  2.25647914848\n",
        "alpha_threshold:  0.0197283001852\n",
        "mean of all alphas:  2.25647914848\n",
        "alpha_threshold:  0.0197283001852\n",
        "mean of all alphas:  2.25647914848\n",
        "alpha_threshold:  0.0197283001852\n",
        "mean of all alphas:  2.25647914848\n",
        "alpha_threshold:  0.0197283001852\n",
        "mean of all alphas:  2.25647914848\n",
        "alpha_threshold:  0.0197283001852\n",
        "mean of all alphas:  2.25647914848\n",
        "Numbe or recoarsenings needed 2\n",
        "Alpha : [  3.78649662e-02  -1.46377074e+00   1.35500145e+00  -1.46162566e+00\n",
        "   1.53408319e-02  -1.51214989e-03   1.35754782e+00  -1.54473079e+00\n",
        "   1.10099815e-02   2.51592580e-02  -8.04799603e-03   3.45367914e-02\n",
        "   3.69101610e-02  -5.99141836e-04   1.31099906e+00  -7.34699938e+00\n",
        "   7.28598636e+00  -7.33892076e+00  -2.39764035e-02  -2.06126215e-02\n",
        "   7.21688364e+00  -7.35524879e+00   1.71841844e-02  -1.23927601e-02\n",
        "   1.93152745e-02   3.34770752e-02  -1.03513538e-02  -1.16469065e-02\n",
        "   7.09531134e+00  -1.58456667e+01   1.28315404e+01  -1.58213801e+01\n",
        "  -1.82889666e-02   1.82076768e-02   1.27892244e+01   1.19169480e+00\n",
        "   1.51248018e+00   1.22161484e+00  -9.77742201e-03  -1.29661140e-02\n",
        "   1.48573310e+00  -1.58214388e+01   1.27624120e+01   3.78062577e-02\n",
        "   2.72683808e-02   3.16165907e-02   1.76723444e-02   1.16560601e+00\n",
        "   1.56036051e+00  -8.18007709e-01   6.42690566e-01  -9.13215145e-01\n",
        "   2.07318762e-02  -3.30555261e-02   6.47801052e-01  -1.11078202e+00\n",
        "  -2.45208213e-02   1.06356194e-02  -3.32778553e-02   4.49056692e-03\n",
        "  -5.62327605e-04  -1.62436852e-02   6.30572584e-01  -3.19125815e+00\n",
        "   1.74593491e-01  -3.36745614e+00   7.99679962e-03   2.47464478e-02\n",
        "   1.13889400e-01   1.50260188e+00   1.22309626e+00   1.49382077e+00\n",
        "   2.25958803e-02  -3.19406517e-02   1.15986470e+00  -3.26302348e+00\n",
        "   1.16687119e-01  -1.96165181e-02  -2.51316571e-02   3.36252017e-02\n",
        "   3.97874175e-02   1.53762614e+00   1.16258807e+00  -4.94097888e-01\n",
        "   3.22443597e-01  -5.33770239e-01   2.81533697e-02   2.39867714e-02\n",
        "   3.19235613e-01  -8.03993755e-01   3.98884478e-03   9.93170271e-03\n",
        "  -4.48607114e-03   1.69323149e-02   7.20689120e-03  -1.28160292e-02\n",
        "   3.64393321e-01  -1.53509063e+01   6.76856670e-01  -1.53489460e+01\n",
        "   1.53330010e-02   3.54728532e-02   6.78248289e-01   1.42877766e+01\n",
        "  -1.32541119e-02   1.41202172e+01   2.99275274e-02   1.79587987e-02\n",
        "   2.19041248e-03  -1.53731792e+01   7.33363991e-01  -1.39039322e-02\n",
        "   1.77352994e-02  -1.30463847e-03   1.43570125e-02   1.42403992e+01\n",
        "   3.70401440e-02]\n",
        "\n",
        "CG Info:  0\n",
        "Number of armijo step:2, learning rate:0.001000"
       ]
      },
      {
       "output_type": "stream",
       "stream": "stdout",
       "text": [
        "\n"
       ]
      },
      {
       "output_type": "stream",
       "stream": "stdout",
       "text": [
        "\n",
        "E_model: [ 1.  2.  0.  2.  0.  0.  0.  2.  0.  0.  0.  0.  0.  0.  0.  2.  0.  2.\n",
        "  0.  0.  0.  2.  0.  0.  0.  0.  0.  0.  0.  4.  0.  4.  0.  0.  0.  0.\n",
        "  0.  0.  0.  0.  0.  4.  0.  0.  0.  0.  0.  0.  0.  2.  0.  2.  0.  0.\n",
        "  0.  2.  0.  0.  0.  0.  0.  0.  0.  4.  0.  4.  0.  0.  0.  0.  0.  0.\n",
        "  0.  0.  0.  4.  0.  0.  0.  0.  0.  0.  0.  2.  0.  2.  0.  0.  0.  2.\n",
        "  0.  0.  0.  0.  0.  0.  0.  4.  0.  4.  0.  0.  0.  0.  0.  0.  0.  0.\n",
        "  0.  4.  0.  0.  0.  0.  0.  0.  0.]\n",
        "*****************Norm of Likelihood Gradient***************   13.5291811224\n",
        "+++++++++++++++++iteration_step+++++++++++++++++++++    6\n",
        "Alpha Treshold:  0.0197283001852\n",
        "alpha_threshold:  0.0197283001852\n",
        "mean of all alphas:  2.81690957053\n",
        "alpha_threshold:  0.0197283001852\n",
        "mean of all alphas:  2.81690957053\n",
        "alpha_threshold:  0.0197283001852\n",
        "mean of all alphas:  2.81690957053\n",
        "alpha_threshold:  0.0197283001852\n",
        "mean of all alphas:  2.81690957053\n",
        "alpha_threshold:  0.0197283001852\n",
        "mean of all alphas:  2.81690957053\n",
        "alpha_threshold:  0.0197283001852\n",
        "mean of all alphas:  2.81690957053\n",
        "alpha_threshold:  0.0197283001852\n",
        "mean of all alphas:  2.81690957053\n",
        "alpha_threshold:  0.0197283001852\n",
        "mean of all alphas:  2.81690957053\n",
        "Numbe or recoarsenings needed 2\n",
        "Alpha : [  3.78271013e-02  -1.82238590e+00   1.69899999e+00  -1.83183704e+00\n",
        "   1.53254910e-02  -1.51063774e-03   1.69841251e+00  -1.93804721e+00\n",
        "   1.09989715e-02   2.51340987e-02  -8.03994803e-03   3.45022546e-02\n",
        "   3.68732508e-02  -5.98542694e-04   1.64564768e+00  -9.17082515e+00\n",
        "   9.09481817e+00  -9.16362433e+00  -2.39524271e-02  -2.05920089e-02\n",
        "   9.01159934e+00  -9.18167550e+00   1.71670002e-02  -1.23803673e-02\n",
        "   1.92959592e-02   3.34435981e-02  -1.03410024e-02  -1.16352596e-02\n",
        "   8.86177816e+00  -1.97952525e+01   1.60408216e+01  -1.97711683e+01\n",
        "  -1.82706776e-02   1.81894692e-02   1.59755651e+01   1.48961413e+00\n",
        "   1.89584655e+00   1.51796335e+00  -9.76764459e-03  -1.29531478e-02\n",
        "   1.86394991e+00  -1.97726576e+01   1.59503520e+01   3.77684514e-02\n",
        "   2.72411124e-02   3.15849741e-02   1.76546721e-02   1.46118524e+00\n",
        "   1.93984530e+00  -1.01640307e+00   8.09818549e-01  -1.13800139e+00\n",
        "   2.07111443e-02  -3.30224706e-02   8.09967327e-01  -1.38834289e+00\n",
        "  -2.44963004e-02   1.06249838e-02  -3.32445774e-02   4.48607635e-03\n",
        "  -5.61765278e-04  -1.62274415e-02   7.82842890e-01  -3.99056698e+00\n",
        "   2.08596405e-01  -4.21418445e+00   7.98880282e-03   2.47217014e-02\n",
        "   1.47383950e-01   1.88012886e+00   1.51929481e+00   1.86634400e+00\n",
        "   2.25732844e-02  -3.19087110e-02   1.44688316e+00  -4.08352046e+00\n",
        "   1.49158567e-01  -1.95969015e-02  -2.51065255e-02   3.35915765e-02\n",
        "   3.97476301e-02   1.91133423e+00   1.45649429e+00  -6.09971704e-01\n",
        "   4.11478945e-01  -6.75063207e-01   2.81252163e-02   2.39627846e-02\n",
        "   4.06722869e-01  -9.95934146e-01   3.98485594e-03   9.92177101e-03\n",
        "  -4.48158507e-03   1.69153825e-02   7.19968431e-03  -1.28032131e-02\n",
        "   4.48732822e-01  -1.91818412e+01   8.53979444e-01  -1.91829368e+01\n",
        "   1.53176680e-02   3.54373803e-02   8.52282974e-01   1.78582601e+01\n",
        "  -1.32408577e-02   1.76434039e+01   2.98975999e-02   1.79408399e-02\n",
        "   2.18822206e-03  -1.92048837e+01   9.09514305e-01  -1.38900282e-02\n",
        "   1.77175641e-02  -1.30333384e-03   1.43426555e-02   1.77829432e+01\n",
        "   3.70031038e-02]\n",
        "\n",
        "CG Info:  0\n",
        "Number of armijo step:2, learning rate:0.001000"
       ]
      },
      {
       "output_type": "stream",
       "stream": "stdout",
       "text": [
        "\n"
       ]
      },
      {
       "output_type": "stream",
       "stream": "stdout",
       "text": [
        "\n",
        "E_model: [ 1.  2.  0.  2.  0.  0.  0.  2.  0.  0.  0.  0.  0.  0.  0.  2.  0.  2.\n",
        "  0.  0.  0.  2.  0.  0.  0.  0.  0.  0.  0.  4.  0.  4.  0.  0.  0.  0.\n",
        "  0.  0.  0.  0.  0.  4.  0.  0.  0.  0.  0.  0.  0.  2.  0.  2.  0.  0.\n",
        "  0.  2.  0.  0.  0.  0.  0.  0.  0.  4.  0.  4.  0.  0.  0.  0.  0.  0.\n",
        "  0.  0.  0.  4.  0.  0.  0.  0.  0.  0.  0.  2.  0.  2.  0.  0.  0.  2.\n",
        "  0.  0.  0.  0.  0.  0.  0.  4.  0.  4.  0.  0.  0.  0.  0.  0.  0.  0.\n",
        "  0.  4.  0.  0.  0.  0.  0.  0.  0.]\n",
        "*****************Norm of Likelihood Gradient***************   13.5156519413\n",
        "+++++++++++++++++iteration_step+++++++++++++++++++++    7\n",
        "Alpha Treshold:  0.0197283001852\n",
        "alpha_threshold:  0.0197283001852\n",
        "mean of all alphas:  3.37677956216\n",
        "alpha_threshold:  0.0197283001852\n",
        "mean of all alphas:  3.37677956216\n",
        "alpha_threshold:  0.0197283001852\n",
        "mean of all alphas:  3.37677956216\n",
        "alpha_threshold:  0.0197283001852\n",
        "mean of all alphas:  3.37677956216\n",
        "alpha_threshold:  0.0197283001852\n",
        "mean of all alphas:  3.37677956216\n",
        "alpha_threshold:  0.0197283001852\n",
        "mean of all alphas:  3.37677956216\n",
        "alpha_threshold:  0.0197283001852\n",
        "mean of all alphas:  3.37677956216\n",
        "alpha_threshold:  0.0197283001852\n",
        "mean of all alphas:  3.37677956216\n",
        "Numbe or recoarsenings needed 2\n",
        "Alpha : [  3.77892742e-02  -2.18064244e+00   2.04265454e+00  -2.20167820e+00\n",
        "   1.53101655e-02  -1.50912710e-03   2.03893633e+00  -2.33097032e+00\n",
        "   1.09879726e-02   2.51089646e-02  -8.03190808e-03   3.44677523e-02\n",
        "   3.68363776e-02  -5.97944151e-04   1.97996166e+00  -1.09928271e+01\n",
        "   1.09018412e+01  -1.09865032e+01  -2.39284747e-02  -2.05714169e-02\n",
        "   1.08045203e+01  -1.10062758e+01   1.71498332e-02  -1.23679870e-02\n",
        "   1.92766632e-02   3.34101545e-02  -1.03306614e-02  -1.16236243e-02\n",
        "   1.06264785e+01  -2.37408888e+01   1.92468934e+01  -2.37170067e+01\n",
        "  -1.82524069e-02   1.81712797e-02   1.91587193e+01   1.78723553e+00\n",
        "   2.27882956e+00   1.81401551e+00  -9.75787695e-03  -1.29401947e-02\n",
        "   2.24178852e+00  -2.37199252e+01   1.91351040e+01   3.77306830e-02\n",
        "   2.72138713e-02   3.15533892e-02   1.76370174e-02   1.75646888e+00\n",
        "   2.31895060e+00  -1.21460003e+00   9.76779405e-01  -1.36256285e+00\n",
        "   2.06904332e-02  -3.29894481e-02   9.71971436e-01  -1.66562620e+00\n",
        "  -2.44718041e-02   1.06143588e-02  -3.32113328e-02   4.48159028e-03\n",
        "  -5.61203512e-04  -1.62112140e-02   9.34960926e-01  -4.78907651e+00\n",
        "   2.42565317e-01  -5.06006603e+00   7.98081401e-03   2.46969797e-02\n",
        "   1.80845005e-01   2.25727832e+00   1.81519715e+00   2.23849470e+00\n",
        "   2.25507111e-02  -3.18768023e-02   1.73361460e+00  -4.90319695e+00\n",
        "   1.81597545e-01  -1.95773046e-02  -2.50814189e-02   3.35579850e-02\n",
        "   3.97078825e-02   2.28466861e+00   1.75010662e+00  -7.25729647e-01\n",
        "   5.00425257e-01  -8.16214882e-01   2.80970911e-02   2.39388218e-02\n",
        "   4.94122639e-01  -1.18768260e+00   3.98087108e-03   9.91184924e-03\n",
        "  -4.47710348e-03   1.68984672e-02   7.19248462e-03  -1.27904099e-02\n",
        "   5.32987982e-01  -2.30089452e+01   1.03092509e+00  -2.30130936e+01\n",
        "   1.53023503e-02   3.54019429e-02   1.02614362e+00   2.14251731e+01\n",
        "  -1.32276169e-02   2.11630674e+01   2.98677023e-02   1.79228990e-02\n",
        "   2.18603384e-03  -2.30327565e+01   1.08548847e+00  -1.38761382e-02\n",
        "   1.76998465e-02  -1.30203050e-03   1.43283129e-02   2.13219446e+01\n",
        "   3.69661007e-02]\n",
        "\n",
        "CG Info:  0\n",
        "Number of armijo step:2, learning rate:0.001000"
       ]
      },
      {
       "output_type": "stream",
       "stream": "stdout",
       "text": [
        "\n"
       ]
      },
      {
       "output_type": "stream",
       "stream": "stdout",
       "text": [
        "\n",
        "E_model: [ 1.  2.  0.  2.  0.  0.  0.  2.  0.  0.  0.  0.  0.  0.  0.  2.  0.  2.\n",
        "  0.  0.  0.  2.  0.  0.  0.  0.  0.  0.  0.  4.  0.  4.  0.  0.  0.  0.\n",
        "  0.  0.  0.  0.  0.  4.  0.  0.  0.  0.  0.  0.  0.  2.  0.  2.  0.  0.\n",
        "  0.  2.  0.  0.  0.  0.  0.  0.  0.  4.  0.  4.  0.  0.  0.  0.  0.  0.\n",
        "  0.  0.  0.  4.  0.  0.  0.  0.  0.  0.  0.  2.  0.  2.  0.  0.  0.  2.\n",
        "  0.  0.  0.  0.  0.  0.  0.  4.  0.  4.  0.  0.  0.  0.  0.  0.  0.  0.\n",
        "  0.  4.  0.  0.  0.  0.  0.  0.  0.]\n",
        "*****************Norm of Likelihood Gradient***************   13.5021362894\n",
        "+++++++++++++++++iteration_step+++++++++++++++++++++    8\n",
        "Alpha Treshold:  0.0197283001852\n",
        "alpha_threshold:  0.0197283001852\n",
        "mean of all alphas:  3.93608968379\n",
        "alpha_threshold:  0.0197283001852\n",
        "mean of all alphas:  3.93608968379\n",
        "alpha_threshold:  0.0197283001852\n",
        "mean of all alphas:  3.93608968379\n",
        "alpha_threshold:  0.0197283001852\n",
        "mean of all alphas:  3.93608968379\n",
        "alpha_threshold:  0.0197283001852\n",
        "mean of all alphas:  3.93608968379\n",
        "alpha_threshold:  0.0197283001852\n",
        "mean of all alphas:  3.93608968379\n",
        "alpha_threshold:  0.0197283001852\n",
        "mean of all alphas:  3.93608968379\n",
        "alpha_threshold:  0.0197283001852\n",
        "mean of all alphas:  3.93608968379\n",
        "Numbe or recoarsenings needed 2\n",
        "Alpha : [  3.77514849e-02  -2.53854072e+00   2.38596542e+00  -2.57114953e+00\n",
        "   1.52948554e-02  -1.50761798e-03   2.37911963e+00  -2.72350050e+00\n",
        "   1.09769846e-02   2.50838557e-02  -8.02387617e-03   3.44332846e-02\n",
        "   3.67995412e-02  -5.97346207e-04   2.31394132e+00  -1.28130070e+01\n",
        "   1.27070571e+01  -1.28075592e+01  -2.39045462e-02  -2.05508455e-02\n",
        "   1.25956484e+01  -1.28290514e+01   1.71326834e-02  -1.23556190e-02\n",
        "   1.92573866e-02   3.33767444e-02  -1.03203308e-02  -1.16120007e-02\n",
        "   1.23894141e+01  -2.76825794e+01   2.24497593e+01  -2.76588993e+01\n",
        "  -1.82341545e-02   1.81531084e-02   2.23386904e+01   2.08455932e+00\n",
        "   2.66142959e+00   2.10977162e+00  -9.74811907e-03  -1.29272545e-02\n",
        "   2.61924928e+00  -2.76632456e+01   2.23166713e+01   3.76929523e-02\n",
        "   2.71866574e-02   3.15218358e-02   1.76193804e-02   2.05145725e+00\n",
        "   2.69767680e+00  -1.41259880e+00   1.14357330e+00  -1.58689975e+00\n",
        "   2.06697428e-02  -3.29564586e-02   1.13381354e+00  -1.94263223e+00\n",
        "  -2.44473323e-02   1.06037445e-02  -3.31781215e-02   4.47710869e-03\n",
        "  -5.60642309e-04  -1.61950028e-02   1.08692684e+00  -5.58678753e+00\n",
        "   2.76500259e-01  -5.90510173e+00   7.97283320e-03   2.46722827e-02\n",
        "   2.14272599e-01   2.63405062e+00   2.11080360e+00   2.61027324e+00\n",
        "   2.25281604e-02  -3.18449255e-02   2.02005931e+00  -5.72205375e+00\n",
        "   2.14004083e-01  -1.95577273e-02  -2.50563375e-02   3.35244270e-02\n",
        "   3.96681746e-02   2.65762966e+00   2.04342533e+00  -8.41371832e-01\n",
        "   5.89282624e-01  -9.57225405e-01   2.80689940e-02   2.39148830e-02\n",
        "   5.81435008e-01  -1.37923930e+00   3.97689021e-03   9.90193739e-03\n",
        "  -4.47262638e-03   1.68815687e-02   7.18529214e-03  -1.27776195e-02\n",
        "   6.17158888e-01  -2.68322220e+01   1.20769380e+00  -2.68394203e+01\n",
        "   1.52870480e-02   3.53665410e-02   1.19983041e+00   2.49885192e+01\n",
        "  -1.32143893e-02   2.46792112e+01   2.98378345e-02   1.79049761e-02\n",
        "   2.18384781e-03  -2.68568015e+01   1.26128666e+00  -1.38622621e-02\n",
        "   1.76821467e-02  -1.30072847e-03   1.43139845e-02   2.48574071e+01\n",
        "   3.69291346e-02]\n",
        "\n",
        "CG Info:  0\n",
        "Number of armijo step:2, learning rate:0.001000"
       ]
      },
      {
       "output_type": "stream",
       "stream": "stdout",
       "text": [
        "\n"
       ]
      },
      {
       "output_type": "stream",
       "stream": "stdout",
       "text": [
        "\n",
        "E_model: [ 1.  2.  0.  2.  0.  0.  0.  2.  0.  0.  0.  0.  0.  0.  0.  2.  0.  2.\n",
        "  0.  0.  0.  2.  0.  0.  0.  0.  0.  0.  0.  4.  0.  4.  0.  0.  0.  0.\n",
        "  0.  0.  0.  0.  0.  4.  0.  0.  0.  0.  0.  0.  0.  2.  0.  2.  0.  0.\n",
        "  0.  2.  0.  0.  0.  0.  0.  0.  0.  4.  0.  4.  0.  0.  0.  0.  0.  0.\n",
        "  0.  0.  0.  4.  0.  0.  0.  0.  0.  0.  0.  2.  0.  2.  0.  0.  0.  2.\n",
        "  0.  0.  0.  0.  0.  0.  0.  4.  0.  4.  0.  0.  0.  0.  0.  0.  0.  0.\n",
        "  0.  4.  0.  0.  0.  0.  0.  0.  0.]\n",
        "*****************Norm of Likelihood Gradient***************   13.4886341531\n",
        "+++++++++++++++++iteration_step+++++++++++++++++++++    9\n",
        "Alpha Treshold:  0.0197283001852\n",
        "alpha_threshold:  0.0197283001852\n",
        "mean of all alphas:  4.4948404953\n",
        "alpha_threshold:  0.0197283001852\n",
        "mean of all alphas:  4.4948404953\n",
        "alpha_threshold:  0.0197283001852\n",
        "mean of all alphas:  4.4948404953\n",
        "alpha_threshold:  0.0197283001852\n",
        "mean of all alphas:  4.4948404953\n",
        "alpha_threshold:  0.0197283001852\n",
        "mean of all alphas:  4.4948404953\n",
        "alpha_threshold:  0.0197283001852\n",
        "mean of all alphas:  4.4948404953\n",
        "alpha_threshold:  0.0197283001852\n",
        "mean of all alphas:  4.4948404953\n",
        "alpha_threshold:  0.0197283001852\n",
        "mean of all alphas:  4.4948404953\n",
        "Numbe or recoarsenings needed 2\n",
        "Alpha : [  3.77137334e-02  -2.89608110e+00   2.72893300e+00  -2.94025138e+00\n",
        "   1.52795605e-02  -1.50611036e-03   2.71896275e+00  -3.11563816e+00\n",
        "   1.09660076e-02   2.50587718e-02  -8.01585230e-03   3.43988513e-02\n",
        "   3.67627417e-02  -5.96748861e-04   2.64758700e+00  -1.46313668e+01\n",
        "   1.45104679e+01  -1.46267941e+01  -2.38806417e-02  -2.05302946e-02\n",
        "   1.43849853e+01  -1.46500043e+01   1.71155507e-02  -1.23432633e-02\n",
        "   1.92381292e-02   3.33433676e-02  -1.03100104e-02  -1.16003887e-02\n",
        "   1.41505869e+01  -3.16203283e+01   2.56494222e+01  -3.15968500e+01\n",
        "  -1.82159204e-02   1.81349553e-02   2.55154816e+01   2.38158579e+00\n",
        "   3.04364702e+00   2.40523197e+00  -9.73837095e-03  -1.29143272e-02\n",
        "   2.99633258e+00  -3.16026226e+01   2.54950570e+01   3.76552593e-02\n",
        "   2.71594708e-02   3.14903139e-02   1.76017610e-02   2.34615062e+00\n",
        "   3.07602428e+00  -1.61039957e+00   1.31020040e+00  -1.81101231e+00\n",
        "   2.06490730e-02  -3.29235022e-02   1.29549380e+00  -2.21936125e+00\n",
        "  -2.44228850e-02   1.05931407e-02  -3.31449434e-02   4.47263158e-03\n",
        "  -5.60081667e-04  -1.61788078e-02   1.23874080e+00  -6.38370084e+00\n",
        "   3.10401267e-01  -6.74929239e+00   7.96486037e-03   2.46476104e-02\n",
        "   2.47666765e-01   3.01044616e+00   2.40611444e+00   2.98168001e+00\n",
        "   2.25056322e-02  -3.18130806e-02   2.30621757e+00  -6.54009170e+00\n",
        "   2.46378214e-01  -1.95381696e-02  -2.50312812e-02   3.34909025e-02\n",
        "   3.96285064e-02   3.03021774e+00   2.33645072e+00  -9.56898374e-01\n",
        "   6.78051133e-01  -1.09809492e+00   2.80409250e-02   2.38909681e-02\n",
        "   6.68660066e-01  -1.57060445e+00   3.97291332e-03   9.89203545e-03\n",
        "  -4.46815375e-03   1.68646871e-02   7.17810685e-03  -1.27648419e-02\n",
        "   7.01245623e-01  -3.06516756e+01   1.38428574e+00  -3.06619206e+01\n",
        "   1.52717609e-02   3.53311744e-02   1.37334352e+00   2.85483019e+01\n",
        "  -1.32011749e-02   2.81918389e+01   2.98079967e-02   1.78870712e-02\n",
        "   2.18166396e-03  -3.06770223e+01   1.43690905e+00  -1.38483998e-02\n",
        "   1.76644645e-02  -1.29942774e-03   1.42996706e-02   2.83893341e+01\n",
        "   3.68922055e-02]\n",
        "\n",
        "CG Info:  0\n",
        "Number of armijo step:2, learning rate:0.001000"
       ]
      },
      {
       "output_type": "stream",
       "stream": "stdout",
       "text": [
        "\n"
       ]
      },
      {
       "output_type": "stream",
       "stream": "stdout",
       "text": [
        "\n",
        "E_model: [ 1.  2.  0.  2.  0.  0.  0.  2.  0.  0.  0.  0.  0.  0.  0.  2.  0.  2.\n",
        "  0.  0.  0.  2.  0.  0.  0.  0.  0.  0.  0.  4.  0.  4.  0.  0.  0.  0.\n",
        "  0.  0.  0.  0.  0.  4.  0.  0.  0.  0.  0.  0.  0.  2.  0.  2.  0.  0.\n",
        "  0.  2.  0.  0.  0.  0.  0.  0.  0.  4.  0.  4.  0.  0.  0.  0.  0.  0.\n",
        "  0.  0.  0.  4.  0.  0.  0.  0.  0.  0.  0.  2.  0.  2.  0.  0.  0.  2.\n",
        "  0.  0.  0.  0.  0.  0.  0.  4.  0.  4.  0.  0.  0.  0.  0.  0.  0.  0.\n",
        "  0.  4.  0.  0.  0.  0.  0.  0.  0.]\n",
        "*****************Norm of Likelihood Gradient***************   13.4751455189\n",
        "+++++++++++++++++iteration_step+++++++++++++++++++++    10\n",
        "Alpha Treshold:  0.0197283001852\n",
        "alpha_threshold:  0.0197283001852\n",
        "mean of all alphas:  5.053032556\n",
        "alpha_threshold:  0.0197283001852\n",
        "mean of all alphas:  5.053032556\n",
        "alpha_threshold:  0.0197283001852\n",
        "mean of all alphas:  5.053032556\n",
        "alpha_threshold:  0.0197283001852\n",
        "mean of all alphas:  5.053032556\n",
        "alpha_threshold:  0.0197283001852\n",
        "mean of all alphas:  5.053032556\n",
        "alpha_threshold:  0.0197283001852\n",
        "mean of all alphas:  5.053032556\n",
        "alpha_threshold:  0.0197283001852\n",
        "mean of all alphas:  5.053032556\n",
        "alpha_threshold:  0.0197283001852\n",
        "mean of all alphas:  5.053032556\n",
        "Numbe or recoarsenings needed 2\n",
        "Alpha : [  3.76760197e-02  -3.25326395e+00   3.07155761e+00  -3.30898413e+00\n",
        "   1.52642810e-02  -1.50460425e-03   3.05846602e+00  -3.50738367e+00\n",
        "   1.09550416e-02   2.50337130e-02  -8.00783645e-03   3.43644524e-02\n",
        "   3.67259789e-02  -5.96152112e-04   2.98089904e+00  -1.64479082e+01\n",
        "   1.63120752e+01  -1.64442098e+01  -2.38567610e-02  -2.05097643e-02\n",
        "   1.61725329e+01  -1.64691363e+01   1.70984352e-02  -1.23309201e-02\n",
        "   1.92188910e-02   3.33100243e-02  -1.02997004e-02  -1.15887883e-02\n",
        "   1.59099984e+01  -3.55541395e+01   2.88458855e+01  -3.55308627e+01\n",
        "  -1.81977044e-02   1.81168204e-02   2.86890959e+01   2.67831522e+00\n",
        "   3.42548223e+00   2.70039686e+00  -9.72863258e-03  -1.29014129e-02\n",
        "   3.37303880e+00  -3.55380603e+01   2.86702643e+01   3.76176041e-02\n",
        "   2.71323113e-02   3.14588236e-02   1.75841593e-02   2.64054930e+00\n",
        "   3.45399340e+00  -1.80800254e+00   1.47666087e+00  -2.03490076e+00\n",
        "   2.06284239e-02  -3.28905787e-02   1.45701238e+00  -2.49581354e+00\n",
        "  -2.43984621e-02   1.05825476e-02  -3.31117984e-02   4.46815895e-03\n",
        "  -5.59521585e-04  -1.61626290e-02   1.39040294e+00  -7.17981723e+00\n",
        "   3.44268373e-01  -7.59263886e+00   7.95689551e-03   2.46229628e-02\n",
        "   2.81027537e-01   3.38646529e+00   2.70112997e+00   3.35271538e+00\n",
        "   2.24831266e-02  -3.17812675e-02   2.59208968e+00  -7.35731162e+00\n",
        "   2.78719972e-01  -1.95186314e-02  -2.50062499e-02   3.34574116e-02\n",
        "   3.95888779e-02   3.40243324e+00   2.62918308e+00  -1.07230939e+00\n",
        "   7.66730873e-01  -1.23882356e+00   2.80128841e-02   2.38670772e-02\n",
        "   7.55797898e-01  -1.76177823e+00   3.96894040e-03   9.88214341e-03\n",
        "  -4.46368560e-03   1.68478224e-02   7.17092874e-03  -1.27520770e-02\n",
        "   7.85248271e-01  -3.44673097e+01   1.56070108e+00  -3.44805985e+01\n",
        "   1.52564891e-02   3.52958433e-02   1.54668311e+00   3.21045248e+01\n",
        "  -1.31879737e-02   3.17009540e+01   2.97781887e-02   1.78691841e-02\n",
        "   2.17948230e-03  -3.44934230e+01   1.61235582e+00  -1.38345514e-02\n",
        "   1.76468001e-02  -1.29812832e-03   1.42853709e-02   3.19177292e+01\n",
        "   3.68553133e-02]\n",
        "\n",
        "CG Info:  0\n",
        "Number of armijo step:2, learning rate:0.001000"
       ]
      },
      {
       "output_type": "stream",
       "stream": "stdout",
       "text": [
        "\n"
       ]
      },
      {
       "output_type": "stream",
       "stream": "stdout",
       "text": [
        "\n",
        "E_model: [ 1.  2.  0.  2.  0.  0.  0.  2.  0.  0.  0.  0.  0.  0.  0.  2.  0.  2.\n",
        "  0.  0.  0.  2.  0.  0.  0.  0.  0.  0.  0.  4.  0.  4.  0.  0.  0.  0.\n",
        "  0.  0.  0.  0.  0.  4.  0.  0.  0.  0.  0.  0.  0.  2.  0.  2.  0.  0.\n",
        "  0.  2.  0.  0.  0.  0.  0.  0.  0.  4.  0.  4.  0.  0.  0.  0.  0.  0.\n",
        "  0.  0.  0.  4.  0.  0.  0.  0.  0.  0.  0.  2.  0.  2.  0.  0.  0.  2.\n",
        "  0.  0.  0.  0.  0.  0.  0.  4.  0.  4.  0.  0.  0.  0.  0.  0.  0.  0.\n",
        "  0.  4.  0.  0.  0.  0.  0.  0.  0.]\n",
        "*****************Norm of Likelihood Gradient***************   13.4616703734\n",
        "+++++++++++++++++iteration_step+++++++++++++++++++++    11\n",
        "Alpha Treshold:  0.0197283001852\n",
        "alpha_threshold:  0.0197283001852\n",
        "mean of all alphas:  5.61066642464\n",
        "alpha_threshold:  0.0197283001852\n",
        "mean of all alphas:  5.61066642464\n",
        "alpha_threshold:  0.0197283001852\n",
        "mean of all alphas:  5.61066642464\n",
        "alpha_threshold:  0.0197283001852\n",
        "mean of all alphas:  5.61066642464\n",
        "alpha_threshold:  0.0197283001852\n",
        "mean of all alphas:  5.61066642464\n",
        "alpha_threshold:  0.0197283001852\n",
        "mean of all alphas:  5.61066642464\n",
        "alpha_threshold:  0.0197283001852\n",
        "mean of all alphas:  5.61066642464\n",
        "alpha_threshold:  0.0197283001852\n",
        "mean of all alphas:  5.61066642464\n",
        "Numbe or recoarsenings needed 2\n",
        "Alpha : [  3.76383437e-02  -3.61008961e+00   3.41383960e+00  -3.67734815e+00\n",
        "   1.52490167e-02  -1.50309964e-03   3.39762979e+00  -3.89873744e+00\n",
        "   1.09440866e-02   2.50086793e-02  -7.99982861e-03   3.43300880e-02\n",
        "   3.66892530e-02  -5.95555960e-04   3.31387777e+00  -1.82626330e+01\n",
        "   1.81118809e+01  -1.82598081e+01  -2.38329043e-02  -2.04892546e-02\n",
        "   1.79582929e+01  -1.82864491e+01   1.70813367e-02  -1.23185892e-02\n",
        "   1.91996722e-02   3.32767142e-02  -1.02894007e-02  -1.15771995e-02\n",
        "   1.76676505e+01  -3.94840169e+01   3.20391523e+01  -3.94609414e+01\n",
        "  -1.81795067e-02   1.80987035e-02   3.18595367e+01   2.97474793e+00\n",
        "   3.80693560e+00   2.99526658e+00  -9.71890395e-03  -1.28885115e-02\n",
        "   3.74936831e+00  -3.94695625e+01   3.18422964e+01   3.75799865e-02\n",
        "   2.71051790e-02   3.14273648e-02   1.75665751e-02   2.93465359e+00\n",
        "   3.83158456e+00  -2.00540790e+00   1.64295489e+00  -2.25856532e+00\n",
        "   2.06077955e-02  -3.28576881e-02   1.61836945e+00  -2.77198937e+00\n",
        "  -2.43740637e-02   1.05719650e-02  -3.30786866e-02   4.46369079e-03\n",
        "  -5.58962063e-04  -1.61464664e-02   1.54191341e+00  -7.97513751e+00\n",
        "   3.78101613e-01  -8.43514198e+00   7.94893861e-03   2.45983398e-02\n",
        "   3.14354948e-01   3.76210841e+00   2.99585048e+00   3.72337970e+00\n",
        "   2.24606435e-02  -3.17494863e-02   2.87767591e+00  -8.17371431e+00\n",
        "   3.11029387e-01  -1.94991128e-02  -2.49812436e-02   3.34239542e-02\n",
        "   3.95492890e-02   3.77427652e+00   2.92162272e+00  -1.18760500e+00\n",
        "   8.55321934e-01  -1.37941147e+00   2.79848712e-02   2.38432101e-02\n",
        "   8.42848592e-01  -1.95276083e+00   3.96497146e-03   9.87226127e-03\n",
        "  -4.45922191e-03   1.68309746e-02   7.16375781e-03  -1.27393250e-02\n",
        "   8.69166916e-01  -3.82791282e+01   1.73694001e+00  -3.82954576e+01\n",
        "   1.52412327e-02   3.52605474e-02   1.71984936e+00   3.56571916e+01\n",
        "  -1.31747857e-02   3.52065599e+01   2.97484105e-02   1.78513149e-02\n",
        "   2.17730281e-03  -3.83060072e+01   1.78762714e+00  -1.38207169e-02\n",
        "   1.76291533e-02  -1.29683019e-03   1.42710855e-02   3.54425959e+01\n",
        "   3.68184580e-02]\n",
        "\n",
        "CG Info:  0\n",
        "Number of armijo step:2, learning rate:0.001000"
       ]
      },
      {
       "output_type": "stream",
       "stream": "stdout",
       "text": [
        "\n"
       ]
      },
      {
       "output_type": "stream",
       "stream": "stdout",
       "text": [
        "\n",
        "E_model: [ 1.  2.  0.  2.  0.  0.  0.  2.  0.  0.  0.  0.  0.  0.  0.  2.  0.  2.\n",
        "  0.  0.  0.  2.  0.  0.  0.  0.  0.  0.  0.  4.  0.  4.  0.  0.  0.  0.\n",
        "  0.  0.  0.  0.  0.  4.  0.  0.  0.  0.  0.  0.  0.  2.  0.  2.  0.  0.\n",
        "  0.  2.  0.  0.  0.  0.  0.  0.  0.  4.  0.  4.  0.  0.  0.  0.  0.  0.\n",
        "  0.  0.  0.  4.  0.  0.  0.  0.  0.  0.  0.  2.  0.  2.  0.  0.  0.  2.\n",
        "  0.  0.  0.  0.  0.  0.  0.  4.  0.  4.  0.  0.  0.  0.  0.  0.  0.  0.\n",
        "  0.  4.  0.  0.  0.  0.  0.  0.  0.]\n",
        "*****************Norm of Likelihood Gradient***************   13.448208703\n",
        "+++++++++++++++++iteration_step+++++++++++++++++++++    12\n",
        "Alpha Treshold:  0.0197283001852\n",
        "alpha_threshold:  0.0197283001852\n",
        "mean of all alphas:  6.16774265941\n",
        "alpha_threshold:  0.0197283001852\n",
        "mean of all alphas:  6.16774265941\n",
        "alpha_threshold:  0.0197283001852\n",
        "mean of all alphas:  6.16774265941\n",
        "alpha_threshold:  0.0197283001852\n",
        "mean of all alphas:  6.16774265941\n",
        "alpha_threshold:  0.0197283001852\n",
        "mean of all alphas:  6.16774265941\n",
        "alpha_threshold:  0.0197283001852\n",
        "mean of all alphas:  6.16774265941\n",
        "alpha_threshold:  0.0197283001852\n",
        "mean of all alphas:  6.16774265941\n",
        "alpha_threshold:  0.0197283001852\n",
        "mean of all alphas:  6.16774265941\n",
        "Numbe or recoarsenings needed 2\n",
        "Alpha : [  3.76007053e-02  -3.96655844e+00   3.75577930e+00  -4.04534380e+00\n",
        "   1.52337677e-02  -1.50159654e-03   3.73645440e+00  -4.28969986e+00\n",
        "   1.09331425e-02   2.49836706e-02  -7.99182878e-03   3.42957579e-02\n",
        "   3.66525637e-02  -5.94960404e-04   3.64652351e+00  -2.00755431e+01\n",
        "   1.99098869e+01  -2.00735908e+01  -2.38090714e-02  -2.04687653e-02\n",
        "   1.97422672e+01  -2.01019446e+01   1.70642554e-02  -1.23062706e-02\n",
        "   1.91804725e-02   3.32434375e-02  -1.02791113e-02  -1.15656223e-02\n",
        "   1.94235450e+01  -4.34099643e+01   3.52292259e+01  -4.33870901e+01\n",
        "  -1.81613272e-02   1.80806048e-02   3.50268070e+01   3.27088420e+00\n",
        "   4.18800752e+00   3.28984144e+00  -9.70918504e-03  -1.28756230e-02\n",
        "   4.12532149e+00  -4.33971332e+01   3.50111564e+01   3.75424065e-02\n",
        "   2.70780738e-02   3.13959374e-02   1.75490085e-02   3.22846377e+00\n",
        "   4.20879813e+00  -2.20261586e+00   1.80908261e+00  -2.48200622e+00\n",
        "   2.05871877e-02  -3.28248304e-02   1.77956515e+00  -3.04788904e+00\n",
        "  -2.43496896e-02   1.05613931e-02  -3.30456079e-02   4.45922710e-03\n",
        "  -5.58403101e-04  -1.61303199e-02   1.69327238e+00  -8.76966247e+00\n",
        "   4.11901019e-01  -9.27680260e+00   7.94098967e-03   2.45737415e-02\n",
        "   3.47649032e-01   4.13737589e+00   3.29027627e+00   4.09367337e+00\n",
        "   2.24381828e-02  -3.17177368e-02   3.16297656e+00  -8.98930060e+00\n",
        "   3.43306494e-01  -1.94796137e-02  -2.49562624e-02   3.33905303e-02\n",
        "   3.95097397e-02   4.14574796e+00   3.21376991e+00  -1.30278530e+00\n",
        "   9.43824404e-01  -1.51985880e+00   2.79568863e-02   2.38193669e-02\n",
        "   9.29812236e-01  -2.14355246e+00   3.96100649e-03   9.86238901e-03\n",
        "  -4.45476269e-03   1.68141436e-02   7.15659405e-03  -1.27265856e-02\n",
        "   9.53001643e-01  -4.20871349e+01   1.91300270e+00  -4.21065019e+01\n",
        "   1.52259914e-02   3.52252869e-02   1.89284244e+00   3.92063056e+01\n",
        "  -1.31616109e-02   3.87086603e+01   2.97186621e-02   1.78334636e-02\n",
        "   2.17512551e-03  -4.21147789e+01   1.96272319e+00  -1.38068961e-02\n",
        "   1.76115241e-02  -1.29553336e-03   1.42568144e-02   3.89639377e+01\n",
        "   3.67816395e-02]\n",
        "\n",
        "CG Info:  0\n",
        "Number of armijo step:2, learning rate:0.001000"
       ]
      },
      {
       "output_type": "stream",
       "stream": "stdout",
       "text": [
        "\n"
       ]
      },
      {
       "output_type": "stream",
       "stream": "stdout",
       "text": [
        "\n",
        "E_model: [ 1.  2.  0.  2.  0.  0.  0.  2.  0.  0.  0.  0.  0.  0.  0.  2.  0.  2.\n",
        "  0.  0.  0.  2.  0.  0.  0.  0.  0.  0.  0.  4.  0.  4.  0.  0.  0.  0.\n",
        "  0.  0.  0.  0.  0.  4.  0.  0.  0.  0.  0.  0.  0.  2.  0.  2.  0.  0.\n",
        "  0.  2.  0.  0.  0.  0.  0.  0.  0.  4.  0.  4.  0.  0.  0.  0.  0.  0.\n",
        "  0.  0.  0.  4.  0.  0.  0.  0.  0.  0.  0.  2.  0.  2.  0.  0.  0.  2.\n",
        "  0.  0.  0.  0.  0.  0.  0.  4.  0.  4.  0.  0.  0.  0.  0.  0.  0.  0.\n",
        "  0.  4.  0.  0.  0.  0.  0.  0.  0.]\n",
        "*****************Norm of Likelihood Gradient***************   13.4347604943\n",
        "+++++++++++++++++iteration_step+++++++++++++++++++++    13\n",
        "Alpha Treshold:  0.0197283001852\n",
        "alpha_threshold:  0.0197283001852\n",
        "mean of all alphas:  6.72426181795\n",
        "alpha_threshold:  0.0197283001852\n",
        "mean of all alphas:  6.72426181795\n",
        "alpha_threshold:  0.0197283001852\n",
        "mean of all alphas:  6.72426181795\n",
        "alpha_threshold:  0.0197283001852\n",
        "mean of all alphas:  6.72426181795\n",
        "alpha_threshold:  0.0197283001852\n",
        "mean of all alphas:  6.72426181795\n",
        "alpha_threshold:  0.0197283001852\n",
        "mean of all alphas:  6.72426181795\n",
        "alpha_threshold:  0.0197283001852\n",
        "mean of all alphas:  6.72426181795\n",
        "alpha_threshold:  0.0197283001852\n",
        "mean of all alphas:  6.72426181795\n",
        "Numbe or recoarsenings needed 2\n",
        "Alpha : [  3.75631046e-02  -4.32267081e+00   4.09737706e+00  -4.41297146e+00\n",
        "   1.52185339e-02  -1.50009495e-03   4.07494018e+00  -4.68027132e+00\n",
        "   1.09222093e-02   2.49586870e-02  -7.98383695e-03   3.42614621e-02\n",
        "   3.66159111e-02  -5.94365444e-04   3.97883661e+00  -2.18866404e+01\n",
        "   2.17060948e+01  -2.18855597e+01  -2.37852623e-02  -2.04482965e-02\n",
        "   2.15244575e+01  -2.19156246e+01   1.70471911e-02  -1.22939643e-02\n",
        "   1.91612920e-02   3.32101941e-02  -1.02688322e-02  -1.15540567e-02\n",
        "   2.11776836e+01  -4.73319859e+01   3.84161093e+01  -4.73093126e+01\n",
        "  -1.81431659e-02   1.80625242e-02   3.81909100e+01   3.56672434e+00\n",
        "   4.56869837e+00   3.58412172e+00  -9.69947586e-03  -1.28627474e-02\n",
        "   4.50089872e+00  -4.73207763e+01   3.81768476e+01   3.75048641e-02\n",
        "   2.70509957e-02   3.13645415e-02   1.75314595e-02   3.52198013e+00\n",
        "   4.58563448e+00  -2.39962661e+00   1.97504420e+00  -2.70522368e+00\n",
        "   2.05666005e-02  -3.27920056e-02   1.94059967e+00  -3.32351280e+00\n",
        "  -2.43253399e-02   1.05508317e-02  -3.30125623e-02   4.45476787e-03\n",
        "  -5.57844698e-04  -1.61141896e-02   1.84447998e+00  -9.56339290e+00\n",
        "   4.45666626e-01  -1.01176216e+01   7.93304868e-03   2.45491678e-02\n",
        "   3.80909822e-01   4.51226809e+00   3.58440764e+00   4.46359674e+00\n",
        "   2.24157446e-02  -3.16860190e-02   3.44799191e+00  -9.80407130e+00\n",
        "   3.75551323e-01  -1.94601341e-02  -2.49313061e-02   3.33571397e-02\n",
        "   3.94702300e-02   4.51684793e+00   3.50562496e+00  -1.41785043e+00\n",
        "   1.03223837e+00  -1.66016568e+00   2.79289295e-02   2.37955475e-02\n",
        "   1.01668892e+00  -2.33415329e+00   3.95704549e-03   9.85252662e-03\n",
        "  -4.45030793e-03   1.67973295e-02   7.14943746e-03  -1.27138591e-02\n",
        "   1.03675254e+00  -4.58913336e+01   2.08888933e+00  -4.59137352e+01\n",
        "   1.52107654e-02   3.51900616e-02   2.06566253e+00   4.27518706e+01\n",
        "  -1.31484493e-02   4.22072585e+01   2.96889435e-02   1.78156301e-02\n",
        "   2.17295038e-03  -4.59197418e+01   2.13764415e+00  -1.37930892e-02\n",
        "   1.75939126e-02  -1.29423782e-03   1.42425576e-02   4.24817582e+01\n",
        "   3.67448579e-02]\n",
        "\n",
        "CG Info:  0\n",
        "Number of armijo step:2, learning rate:0.001000"
       ]
      },
      {
       "output_type": "stream",
       "stream": "stdout",
       "text": [
        "\n"
       ]
      },
      {
       "output_type": "stream",
       "stream": "stdout",
       "text": [
        "\n",
        "E_model: [ 1.  2.  0.  2.  0.  0.  0.  2.  0.  0.  0.  0.  0.  0.  0.  2.  0.  2.\n",
        "  0.  0.  0.  2.  0.  0.  0.  0.  0.  0.  0.  4.  0.  4.  0.  0.  0.  0.\n",
        "  0.  0.  0.  0.  0.  4.  0.  0.  0.  0.  0.  0.  0.  2.  0.  2.  0.  0.\n",
        "  0.  2.  0.  0.  0.  0.  0.  0.  0.  4.  0.  4.  0.  0.  0.  0.  0.  0.\n",
        "  0.  0.  0.  4.  0.  0.  0.  0.  0.  0.  0.  2.  0.  2.  0.  0.  0.  2.\n",
        "  0.  0.  0.  0.  0.  0.  0.  4.  0.  4.  0.  0.  0.  0.  0.  0.  0.  0.\n",
        "  0.  4.  0.  0.  0.  0.  0.  0.  0.]\n",
        "*****************Norm of Likelihood Gradient***************   13.4213257338\n",
        "+++++++++++++++++iteration_step+++++++++++++++++++++    14\n",
        "Alpha Treshold:  0.0197283001852\n",
        "alpha_threshold:  0.0197283001852\n",
        "mean of all alphas:  7.28022445732\n",
        "alpha_threshold:  0.0197283001852\n",
        "mean of all alphas:  7.28022445732\n",
        "alpha_threshold:  0.0197283001852\n",
        "mean of all alphas:  7.28022445732\n",
        "alpha_threshold:  0.0197283001852\n",
        "mean of all alphas:  7.28022445732\n",
        "alpha_threshold:  0.0197283001852\n",
        "mean of all alphas:  7.28022445732\n",
        "alpha_threshold:  0.0197283001852\n",
        "mean of all alphas:  7.28022445732\n",
        "alpha_threshold:  0.0197283001852\n",
        "mean of all alphas:  7.28022445732\n",
        "alpha_threshold:  0.0197283001852\n",
        "mean of all alphas:  7.28022445732\n",
        "Numbe or recoarsenings needed 2\n",
        "Alpha : [  3.75255415e-02  -4.67842706e+00   4.43863323e+00  -4.78023149e+00\n",
        "   1.52033154e-02  -1.49859485e-03   4.41308748e+00  -5.07045220e+00\n",
        "   1.09112871e-02   2.49337283e-02  -7.97585312e-03   3.42272007e-02\n",
        "   3.65792952e-02  -5.93771078e-04   4.31081740e+00  -2.36959265e+01\n",
        "   2.35005065e+01  -2.36957166e+01  -2.37614770e-02  -2.04278482e-02\n",
        "   2.33048656e+01  -2.37274910e+01   1.70301439e-02  -1.22816703e-02\n",
        "   1.91421307e-02   3.31769839e-02  -1.02585634e-02  -1.15425026e-02\n",
        "   2.29300680e+01  -5.12500854e+01   4.15998059e+01  -5.12276128e+01\n",
        "  -1.81250227e-02   1.80444617e-02   4.13518489e+01   3.86226864e+00\n",
        "   4.94900853e+00   3.87810772e+00  -9.68977638e-03  -1.28498846e-02\n",
        "   4.87610037e+00  -5.12404958e+01   4.13393732e+01   3.74673592e-02\n",
        "   2.70239447e-02   3.13331770e-02   1.75139281e-02   3.81520299e+00\n",
        "   4.96209399e+00  -2.59644035e+00   2.14083983e+00  -2.92821792e+00\n",
        "   2.05460339e-02  -3.27592136e-02   2.10147314e+00  -3.59886094e+00\n",
        "  -2.43010146e-02   1.05402808e-02  -3.29795498e-02   4.45031310e-03\n",
        "  -5.57286853e-04  -1.60980754e-02   1.99553638e+00  -1.03563296e+01\n",
        "   4.79398467e-01  -1.09575997e+01   7.92511563e-03   2.45246186e-02\n",
        "   4.14137351e-01   4.88678541e+00   3.87824487e+00   4.83315018e+00\n",
        "   2.23933289e-02  -3.16543330e-02   3.73272224e+00  -1.06180272e+01\n",
        "   4.07763907e-01  -1.94406740e-02  -2.49063748e-02   3.33237826e-02\n",
        "   3.94307598e-02   4.88757680e+00   3.79718815e+00  -1.53280050e+00\n",
        "   1.12056392e+00  -1.80033225e+00   2.79010005e-02   2.37717520e-02\n",
        "   1.10347872e+00  -2.52456352e+00   3.95308844e-03   9.84267409e-03\n",
        "  -4.44585762e-03   1.67805322e-02   7.14228802e-03  -1.27011452e-02\n",
        "   1.12041968e+00  -4.96917280e+01   2.26460007e+00  -4.97171612e+01\n",
        "   1.51955547e-02   3.51548715e-02   2.23830980e+00   4.62938900e+01\n",
        "  -1.31353009e-02   4.57023582e+01   2.96592545e-02   1.77978145e-02\n",
        "   2.17077743e-03  -4.97208997e+01   2.31239018e+00  -1.37792962e-02\n",
        "   1.75763187e-02  -1.29294359e-03   1.42283151e-02   4.59960608e+01\n",
        "   3.67081130e-02]\n",
        "\n",
        "CG Info:  0\n",
        "Number of armijo step:2, learning rate:0.001000"
       ]
      },
      {
       "output_type": "stream",
       "stream": "stdout",
       "text": [
        "\n"
       ]
      },
      {
       "output_type": "stream",
       "stream": "stdout",
       "text": [
        "\n",
        "E_model: [ 1.  2.  0.  2.  0.  0.  0.  2.  0.  0.  0.  0.  0.  0.  0.  2.  0.  2.\n",
        "  0.  0.  0.  2.  0.  0.  0.  0.  0.  0.  0.  4.  0.  4.  0.  0.  0.  0.\n",
        "  0.  0.  0.  0.  0.  4.  0.  0.  0.  0.  0.  0.  0.  2.  0.  2.  0.  0.\n",
        "  0.  2.  0.  0.  0.  0.  0.  0.  0.  4.  0.  4.  0.  0.  0.  0.  0.  0.\n",
        "  0.  0.  0.  4.  0.  0.  0.  0.  0.  0.  0.  2.  0.  2.  0.  0.  0.  2.\n",
        "  0.  0.  0.  0.  0.  0.  0.  4.  0.  4.  0.  0.  0.  0.  0.  0.  0.  0.\n",
        "  0.  4.  0.  0.  0.  0.  0.  0.  0.]\n",
        "*****************Norm of Likelihood Gradient***************   13.4079044081\n",
        "+++++++++++++++++iteration_step+++++++++++++++++++++    15\n",
        "Alpha Treshold:  0.0197283001852\n",
        "alpha_threshold:  0.0197283001852\n",
        "mean of all alphas:  7.83563113406\n",
        "alpha_threshold:  0.0197283001852\n",
        "mean of all alphas:  7.83563113406\n",
        "alpha_threshold:  0.0197283001852\n",
        "mean of all alphas:  7.83563113406\n",
        "alpha_threshold:  0.0197283001852\n",
        "mean of all alphas:  7.83563113406\n",
        "alpha_threshold:  0.0197283001852\n",
        "mean of all alphas:  7.83563113406\n",
        "alpha_threshold:  0.0197283001852\n",
        "mean of all alphas:  7.83563113406\n",
        "alpha_threshold:  0.0197283001852\n",
        "mean of all alphas:  7.83563113406\n",
        "alpha_threshold:  0.0197283001852\n",
        "mean of all alphas:  7.83563113406\n",
        "Numbe or recoarsenings needed 2\n",
        "Alpha : [  3.74880160e-02  -5.03382756e+00   4.77954814e+00  -5.14712426e+00\n",
        "   1.51881120e-02  -1.49709626e-03   4.75089663e+00  -5.46024290e+00\n",
        "   1.09003758e-02   2.49087946e-02  -7.96787726e-03   3.41929735e-02\n",
        "   3.65427159e-02  -5.93177307e-04   4.64246621e+00  -2.55034033e+01\n",
        "   2.52931238e+01  -2.55040634e+01  -2.37377156e-02  -2.04074204e-02\n",
        "   2.50834934e+01  -2.55375454e+01   1.70131138e-02  -1.22693887e-02\n",
        "   1.91229886e-02   3.31438069e-02  -1.02483048e-02  -1.15309601e-02\n",
        "   2.46807001e+01  -5.51642668e+01   4.47803188e+01  -5.51419948e+01\n",
        "  -1.81068977e-02   1.80264172e-02   4.45096269e+01   4.15751740e+00\n",
        "   5.32893837e+00   4.17179973e+00  -9.68008660e-03  -1.28370347e-02\n",
        "   5.25092682e+00  -5.51562956e+01   4.44987362e+01   3.74298918e-02\n",
        "   2.69969208e-02   3.13018438e-02   1.74964141e-02   4.10813262e+00\n",
        "   5.33817705e+00  -2.79305728e+00   2.30646966e+00  -3.15098916e+00\n",
        "   2.05254879e-02  -3.27264544e-02   2.26218574e+00  -3.87393373e+00\n",
        "  -2.42767135e-02   1.05297406e-02  -3.29465702e-02   4.44586279e-03\n",
        "  -5.56729567e-04  -1.60819773e-02   2.14644173e+00  -1.11484734e+01\n",
        "   5.13096576e-01  -1.17967379e+01   7.91719052e-03   2.45000940e-02\n",
        "   4.47331652e-01   5.26092821e+00   4.17178827e+00   5.20233408e+00\n",
        "   2.23709356e-02  -3.16226787e-02   4.01716784e+00  -1.14311692e+01\n",
        "   4.39944279e-01  -1.94212333e-02  -2.48814685e-02   3.32904588e-02\n",
        "   3.93913290e-02   5.25793493e+00   4.08845978e+00  -1.64763561e+00\n",
        "   1.20880115e+00  -1.94035866e+00   2.78730995e-02   2.37479802e-02\n",
        "   1.19018173e+00  -2.71478334e+00   3.94913535e-03   9.83283142e-03\n",
        "  -4.44141176e-03   1.67637516e-02   7.13514573e-03  -1.26884441e-02\n",
        "   1.20400315e+00  -5.34883221e+01   2.44013510e+00  -5.35167838e+01\n",
        "   1.51803591e-02   3.51197167e-02   2.41078443e+00   4.98323673e+01\n",
        "  -1.31221656e-02   4.91939627e+01   2.96295953e-02   1.77800167e-02\n",
        "   2.16860666e-03  -5.35182565e+01   2.48696147e+00  -1.37655169e-02\n",
        "   1.75587424e-02  -1.29165064e-03   1.42140867e-02   4.95068492e+01\n",
        "   3.66714049e-02]\n",
        "Alpha:  [  3.74880160e-02  -5.03382756e+00   4.77954814e+00  -5.14712426e+00\n",
        "   1.51881120e-02  -1.49709626e-03   4.75089663e+00  -5.46024290e+00\n",
        "   1.09003758e-02   2.49087946e-02  -7.96787726e-03   3.41929735e-02\n",
        "   3.65427159e-02  -5.93177307e-04   4.64246621e+00  -2.55034033e+01\n",
        "   2.52931238e+01  -2.55040634e+01  -2.37377156e-02  -2.04074204e-02\n",
        "   2.50834934e+01  -2.55375454e+01   1.70131138e-02  -1.22693887e-02\n",
        "   1.91229886e-02   3.31438069e-02  -1.02483048e-02  -1.15309601e-02\n",
        "   2.46807001e+01  -5.51642668e+01   4.47803188e+01  -5.51419948e+01\n",
        "  -1.81068977e-02   1.80264172e-02   4.45096269e+01   4.15751740e+00\n",
        "   5.32893837e+00   4.17179973e+00  -9.68008660e-03  -1.28370347e-02\n",
        "   5.25092682e+00  -5.51562956e+01   4.44987362e+01   3.74298918e-02\n",
        "   2.69969208e-02   3.13018438e-02   1.74964141e-02   4.10813262e+00\n",
        "   5.33817705e+00  -2.79305728e+00   2.30646966e+00  -3.15098916e+00\n",
        "   2.05254879e-02  -3.27264544e-02   2.26218574e+00  -3.87393373e+00\n",
        "  -2.42767135e-02   1.05297406e-02  -3.29465702e-02   4.44586279e-03\n",
        "  -5.56729567e-04  -1.60819773e-02   2.14644173e+00  -1.11484734e+01\n",
        "   5.13096576e-01  -1.17967379e+01   7.91719052e-03   2.45000940e-02\n",
        "   4.47331652e-01   5.26092821e+00   4.17178827e+00   5.20233408e+00\n",
        "   2.23709356e-02  -3.16226787e-02   4.01716784e+00  -1.14311692e+01\n",
        "   4.39944279e-01  -1.94212333e-02  -2.48814685e-02   3.32904588e-02\n",
        "   3.93913290e-02   5.25793493e+00   4.08845978e+00  -1.64763561e+00\n",
        "   1.20880115e+00  -1.94035866e+00   2.78730995e-02   2.37479802e-02\n",
        "   1.19018173e+00  -2.71478334e+00   3.94913535e-03   9.83283142e-03\n",
        "  -4.44141176e-03   1.67637516e-02   7.13514573e-03  -1.26884441e-02\n",
        "   1.20400315e+00  -5.34883221e+01   2.44013510e+00  -5.35167838e+01\n",
        "   1.51803591e-02   3.51197167e-02   2.41078443e+00   4.98323673e+01\n",
        "  -1.31221656e-02   4.91939627e+01   2.96295953e-02   1.77800167e-02\n",
        "   2.16860666e-03  -5.35182565e+01   2.48696147e+00  -1.37655169e-02\n",
        "   1.75587424e-02  -1.29165064e-03   1.42140867e-02   4.95068492e+01\n",
        "   3.66714049e-02]\n",
        "Factors:  {1: [(0,), (1,), (2,), (3,)], 2: [(0, 1), (0, 2), (1, 3)], 3: []}\n",
        "lgn_list:  [19.43507913567683, 13.583433409787631, 13.569849976377837, 13.556280126401457, 13.542723846275058, 13.529181122428785, 13.515651941306352, 13.502136289365048, 13.488634153075685, 13.475145518922607, 13.461670373403685, 13.44820870303028, 13.434760494327252, 13.421325733832925, 13.407904408099093]\n",
        "svrf_list:  []\n"
       ]
      }
     ],
     "prompt_number": 53
    },
    {
     "cell_type": "code",
     "collapsed": false,
     "input": [],
     "language": "python",
     "metadata": {},
     "outputs": []
    }
   ],
   "metadata": {}
  }
 ]
}